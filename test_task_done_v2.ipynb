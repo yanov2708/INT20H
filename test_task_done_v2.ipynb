{
  "cells": [
    {
      "cell_type": "code",
      "execution_count": null,
      "metadata": {
        "id": "4efwbxRRAxCS"
      },
      "outputs": [],
      "source": [
        "import pandas as pd\n",
        "import numpy as np\n",
        "import seaborn as sns\n",
        "from matplotlib import pyplot as plt\n",
        "\n",
        "\n",
        "import warnings\n",
        "warnings.filterwarnings('ignore')\n",
        "df = pd.read_csv('https://raw.githubusercontent.com/yanov2708/INT20H/main/int20h-ds-test-dataset.csv')"
      ]
    },
    {
      "cell_type": "markdown",
      "metadata": {
        "id": "9HEgvTWxAxCW"
      },
      "source": [
        "# Assignment\n",
        "\n",
        "Identify a set of events and parameters with the highest or lowest correlation with the potential\n",
        "account cancellation. Prioritize the events, event properties or user properties, which have\n",
        "highest or lowest correlation with the account cancellation"
      ]
    },
    {
      "cell_type": "markdown",
      "metadata": {
        "id": "KXFoZMUDAxCY"
      },
      "source": [
        "**Subscription Premium Cancel** - explicit churn event - user has canceled the subscription.\n",
        "That’s the event we want to predict and prevent"
      ]
    },
    {
      "cell_type": "code",
      "execution_count": null,
      "metadata": {
        "id": "d-MjOF79AxCY",
        "outputId": "ab15918e-de75-4ab0-d74f-4c51920f3835"
      },
      "outputs": [
        {
          "data": {
            "text/html": [
              "<div>\n",
              "<style scoped>\n",
              "    .dataframe tbody tr th:only-of-type {\n",
              "        vertical-align: middle;\n",
              "    }\n",
              "\n",
              "    .dataframe tbody tr th {\n",
              "        vertical-align: top;\n",
              "    }\n",
              "\n",
              "    .dataframe thead th {\n",
              "        text-align: right;\n",
              "    }\n",
              "</style>\n",
              "<table border=\"1\" class=\"dataframe\">\n",
              "  <thead>\n",
              "    <tr style=\"text-align: right;\">\n",
              "      <th></th>\n",
              "      <th>userid</th>\n",
              "      <th>user_state</th>\n",
              "      <th>event_name</th>\n",
              "      <th>event_attributes</th>\n",
              "      <th>event_created_date</th>\n",
              "      <th>event_platform</th>\n",
              "      <th>device_manufacture</th>\n",
              "      <th>device_model</th>\n",
              "    </tr>\n",
              "  </thead>\n",
              "  <tbody>\n",
              "    <tr>\n",
              "      <th>0</th>\n",
              "      <td>c95c777785faec8dd910d019d7278ebe</td>\n",
              "      <td>CA</td>\n",
              "      <td>Add Vehicle Success</td>\n",
              "      <td>{\"Make\":\"Dodge\",\"Model\":\"Caravan\",\"Color\":\"Whi...</td>\n",
              "      <td>2022-01-16 17:03:04</td>\n",
              "      <td>android</td>\n",
              "      <td>samsung</td>\n",
              "      <td>SM-N975U</td>\n",
              "    </tr>\n",
              "    <tr>\n",
              "      <th>1</th>\n",
              "      <td>c95c777785faec8dd910d019d7278ebe</td>\n",
              "      <td>CA</td>\n",
              "      <td>Add Vehicle Break</td>\n",
              "      <td>{}</td>\n",
              "      <td>2022-01-16 17:07:47</td>\n",
              "      <td>android</td>\n",
              "      <td>samsung</td>\n",
              "      <td>SM-N975U</td>\n",
              "    </tr>\n",
              "    <tr>\n",
              "      <th>2</th>\n",
              "      <td>f344be2d9a042b7444f3cc5279e38ef1</td>\n",
              "      <td>FL</td>\n",
              "      <td>Calculator View</td>\n",
              "      <td>{}</td>\n",
              "      <td>2022-01-16 17:16:25</td>\n",
              "      <td>android</td>\n",
              "      <td>samsung</td>\n",
              "      <td>SM-G973U1</td>\n",
              "    </tr>\n",
              "    <tr>\n",
              "      <th>3</th>\n",
              "      <td>c95c777785faec8dd910d019d7278ebe</td>\n",
              "      <td>CA</td>\n",
              "      <td>Add Payment Method Success</td>\n",
              "      <td>{\"Payment Method\":\"Credit\",\"Tokenized Pay\":\"\"}</td>\n",
              "      <td>2022-01-16 17:24:22</td>\n",
              "      <td>android</td>\n",
              "      <td>samsung</td>\n",
              "      <td>SM-N975U</td>\n",
              "    </tr>\n",
              "    <tr>\n",
              "      <th>4</th>\n",
              "      <td>e331ed81422d8fba55520a43a872e701</td>\n",
              "      <td>IL</td>\n",
              "      <td>Sign Up Success</td>\n",
              "      <td>{\"Method\":\"Apple\"}</td>\n",
              "      <td>2022-01-16 17:34:51</td>\n",
              "      <td>ios</td>\n",
              "      <td>Apple</td>\n",
              "      <td>iPhone12,1</td>\n",
              "    </tr>\n",
              "  </tbody>\n",
              "</table>\n",
              "</div>"
            ],
            "text/plain": [
              "                             userid user_state                  event_name  \\\n",
              "0  c95c777785faec8dd910d019d7278ebe         CA         Add Vehicle Success   \n",
              "1  c95c777785faec8dd910d019d7278ebe         CA           Add Vehicle Break   \n",
              "2  f344be2d9a042b7444f3cc5279e38ef1         FL             Calculator View   \n",
              "3  c95c777785faec8dd910d019d7278ebe         CA  Add Payment Method Success   \n",
              "4  e331ed81422d8fba55520a43a872e701         IL             Sign Up Success   \n",
              "\n",
              "                                    event_attributes   event_created_date  \\\n",
              "0  {\"Make\":\"Dodge\",\"Model\":\"Caravan\",\"Color\":\"Whi...  2022-01-16 17:03:04   \n",
              "1                                                 {}  2022-01-16 17:07:47   \n",
              "2                                                 {}  2022-01-16 17:16:25   \n",
              "3     {\"Payment Method\":\"Credit\",\"Tokenized Pay\":\"\"}  2022-01-16 17:24:22   \n",
              "4                                 {\"Method\":\"Apple\"}  2022-01-16 17:34:51   \n",
              "\n",
              "  event_platform device_manufacture device_model  \n",
              "0        android            samsung     SM-N975U  \n",
              "1        android            samsung     SM-N975U  \n",
              "2        android            samsung    SM-G973U1  \n",
              "3        android            samsung     SM-N975U  \n",
              "4            ios              Apple   iPhone12,1  "
            ]
          },
          "execution_count": 2,
          "metadata": {},
          "output_type": "execute_result"
        }
      ],
      "source": [
        "df.head()"
      ]
    },
    {
      "cell_type": "code",
      "execution_count": null,
      "metadata": {
        "id": "-_Cgs_odAxCZ"
      },
      "outputs": [],
      "source": [
        "df['event_attributes'] = df['event_attributes'].astype(\"string\")"
      ]
    },
    {
      "cell_type": "markdown",
      "metadata": {
        "id": "MfXlkVAoAxCa"
      },
      "source": [
        "Let's collect all users with a subscription, this includes those who purchased it in the time period given to us, those who purchased it before the specified period, and those who renew it"
      ]
    },
    {
      "cell_type": "code",
      "execution_count": null,
      "metadata": {
        "id": "K2FMzk-8AxCa",
        "outputId": "60e9a3c0-8703-4be4-9267-9d9d691b394a"
      },
      "outputs": [
        {
          "name": "stdout",
          "output_type": "stream",
          "text": [
            "Amount of subscribers:  799\n"
          ]
        }
      ],
      "source": [
        "subscribers_list = df[(df['event_name'] == 'Subscription Premium')\n",
        "                    | (df['event_attributes'] == '{\"Premium Membership\":\"True\"}')\n",
        "                    | (df['event_name'] == 'Subscription Premium Renew')\n",
        "                    ]['userid'].unique().tolist()\n",
        "print(\"Amount of subscribers: \",len(subscribers_list))"
      ]
    },
    {
      "cell_type": "markdown",
      "metadata": {
        "id": "ktVEzuW4AxCb"
      },
      "source": [
        "Filtering dataframe to get users who subscribed at least once"
      ]
    },
    {
      "cell_type": "code",
      "execution_count": null,
      "metadata": {
        "id": "Yt2z9TuHAxCc"
      },
      "outputs": [],
      "source": [
        "df_subs = df[df['userid'].isin(subscribers_list)]"
      ]
    },
    {
      "cell_type": "markdown",
      "metadata": {
        "id": "JgTQn8xXAxCc"
      },
      "source": [
        "Find gone users"
      ]
    },
    {
      "cell_type": "code",
      "execution_count": null,
      "metadata": {
        "id": "czVvbILjAxCd",
        "outputId": "7b64452a-a6f7-4634-abcd-c891eb742b63"
      },
      "outputs": [
        {
          "name": "stdout",
          "output_type": "stream",
          "text": [
            "Amount of subscribers who cancelled subscription:  238\n"
          ]
        }
      ],
      "source": [
        "gone_users = df_subs[df_subs['event_name'] == 'Subscription Premium Cancel'].userid.unique().tolist()\n",
        "print(\"Amount of subscribers who cancelled subscription: \",len(gone_users))"
      ]
    },
    {
      "cell_type": "markdown",
      "metadata": {
        "id": "drgkNJfIAxCd"
      },
      "source": [
        "Set column to check if user cancelled subscription"
      ]
    },
    {
      "cell_type": "code",
      "execution_count": null,
      "metadata": {
        "id": "6HFK9hqXAxCd"
      },
      "outputs": [],
      "source": [
        "df_subs['gone_user'] = df_subs['userid'].isin(gone_users)"
      ]
    },
    {
      "cell_type": "markdown",
      "metadata": {
        "id": "pw12k-KdAxCd"
      },
      "source": [
        "Let's calculate the number of completed events of different types for each user"
      ]
    },
    {
      "cell_type": "code",
      "execution_count": null,
      "metadata": {
        "id": "oSTpo2FoAxCe",
        "outputId": "dadac7ea-5579-4ba6-88f0-82fda93e8172"
      },
      "outputs": [
        {
          "data": {
            "text/html": [
              "<div>\n",
              "<style scoped>\n",
              "    .dataframe tbody tr th:only-of-type {\n",
              "        vertical-align: middle;\n",
              "    }\n",
              "\n",
              "    .dataframe tbody tr th {\n",
              "        vertical-align: top;\n",
              "    }\n",
              "\n",
              "    .dataframe thead th {\n",
              "        text-align: right;\n",
              "    }\n",
              "</style>\n",
              "<table border=\"1\" class=\"dataframe\">\n",
              "  <thead>\n",
              "    <tr style=\"text-align: right;\">\n",
              "      <th>event_name</th>\n",
              "      <th>Account History Transaction Details</th>\n",
              "      <th>Account Setup Profile Skip</th>\n",
              "      <th>Account Setup Skip</th>\n",
              "      <th>Add Payment Method Failed</th>\n",
              "      <th>Add Payment Method Success</th>\n",
              "      <th>Add Vehicle Break</th>\n",
              "      <th>Add Vehicle Failed</th>\n",
              "      <th>Add Vehicle Success</th>\n",
              "      <th>Calculator Used</th>\n",
              "      <th>Calculator View</th>\n",
              "      <th>...</th>\n",
              "      <th>Reset Password Set</th>\n",
              "      <th>Sign Out</th>\n",
              "      <th>Sign Up Error</th>\n",
              "      <th>Sign Up Success</th>\n",
              "      <th>Subscription Premium</th>\n",
              "      <th>Subscription Premium Cancel</th>\n",
              "      <th>Subscription Premium Renew</th>\n",
              "      <th>Transaction Refund</th>\n",
              "      <th>Wallet Opened</th>\n",
              "      <th>gone_user</th>\n",
              "    </tr>\n",
              "    <tr>\n",
              "      <th>userid</th>\n",
              "      <th></th>\n",
              "      <th></th>\n",
              "      <th></th>\n",
              "      <th></th>\n",
              "      <th></th>\n",
              "      <th></th>\n",
              "      <th></th>\n",
              "      <th></th>\n",
              "      <th></th>\n",
              "      <th></th>\n",
              "      <th></th>\n",
              "      <th></th>\n",
              "      <th></th>\n",
              "      <th></th>\n",
              "      <th></th>\n",
              "      <th></th>\n",
              "      <th></th>\n",
              "      <th></th>\n",
              "      <th></th>\n",
              "      <th></th>\n",
              "      <th></th>\n",
              "    </tr>\n",
              "  </thead>\n",
              "  <tbody>\n",
              "    <tr>\n",
              "      <th>0006869712ec9841dc36234bce245203</th>\n",
              "      <td>2</td>\n",
              "      <td>0</td>\n",
              "      <td>0</td>\n",
              "      <td>0</td>\n",
              "      <td>1</td>\n",
              "      <td>0</td>\n",
              "      <td>0</td>\n",
              "      <td>1</td>\n",
              "      <td>0</td>\n",
              "      <td>0</td>\n",
              "      <td>...</td>\n",
              "      <td>0</td>\n",
              "      <td>0</td>\n",
              "      <td>0</td>\n",
              "      <td>0</td>\n",
              "      <td>1</td>\n",
              "      <td>0</td>\n",
              "      <td>1</td>\n",
              "      <td>0</td>\n",
              "      <td>0</td>\n",
              "      <td>False</td>\n",
              "    </tr>\n",
              "    <tr>\n",
              "      <th>00596aa4edee32815aaf4aad659c484e</th>\n",
              "      <td>0</td>\n",
              "      <td>0</td>\n",
              "      <td>0</td>\n",
              "      <td>0</td>\n",
              "      <td>2</td>\n",
              "      <td>0</td>\n",
              "      <td>0</td>\n",
              "      <td>1</td>\n",
              "      <td>0</td>\n",
              "      <td>0</td>\n",
              "      <td>...</td>\n",
              "      <td>0</td>\n",
              "      <td>0</td>\n",
              "      <td>0</td>\n",
              "      <td>1</td>\n",
              "      <td>1</td>\n",
              "      <td>0</td>\n",
              "      <td>0</td>\n",
              "      <td>0</td>\n",
              "      <td>0</td>\n",
              "      <td>False</td>\n",
              "    </tr>\n",
              "    <tr>\n",
              "      <th>007b54670d72df309afd87befcbb63db</th>\n",
              "      <td>0</td>\n",
              "      <td>0</td>\n",
              "      <td>0</td>\n",
              "      <td>0</td>\n",
              "      <td>1</td>\n",
              "      <td>1</td>\n",
              "      <td>0</td>\n",
              "      <td>1</td>\n",
              "      <td>0</td>\n",
              "      <td>0</td>\n",
              "      <td>...</td>\n",
              "      <td>0</td>\n",
              "      <td>0</td>\n",
              "      <td>0</td>\n",
              "      <td>1</td>\n",
              "      <td>1</td>\n",
              "      <td>0</td>\n",
              "      <td>0</td>\n",
              "      <td>0</td>\n",
              "      <td>0</td>\n",
              "      <td>False</td>\n",
              "    </tr>\n",
              "    <tr>\n",
              "      <th>0136a8eeca5d16ac1a521dd0e27ecec0</th>\n",
              "      <td>0</td>\n",
              "      <td>0</td>\n",
              "      <td>0</td>\n",
              "      <td>1</td>\n",
              "      <td>1</td>\n",
              "      <td>0</td>\n",
              "      <td>0</td>\n",
              "      <td>1</td>\n",
              "      <td>0</td>\n",
              "      <td>0</td>\n",
              "      <td>...</td>\n",
              "      <td>0</td>\n",
              "      <td>0</td>\n",
              "      <td>0</td>\n",
              "      <td>0</td>\n",
              "      <td>1</td>\n",
              "      <td>0</td>\n",
              "      <td>2</td>\n",
              "      <td>0</td>\n",
              "      <td>0</td>\n",
              "      <td>False</td>\n",
              "    </tr>\n",
              "    <tr>\n",
              "      <th>01529f53aaba5b512168d432d5650556</th>\n",
              "      <td>2</td>\n",
              "      <td>0</td>\n",
              "      <td>0</td>\n",
              "      <td>0</td>\n",
              "      <td>1</td>\n",
              "      <td>1</td>\n",
              "      <td>0</td>\n",
              "      <td>1</td>\n",
              "      <td>0</td>\n",
              "      <td>0</td>\n",
              "      <td>...</td>\n",
              "      <td>0</td>\n",
              "      <td>0</td>\n",
              "      <td>0</td>\n",
              "      <td>1</td>\n",
              "      <td>1</td>\n",
              "      <td>0</td>\n",
              "      <td>0</td>\n",
              "      <td>0</td>\n",
              "      <td>0</td>\n",
              "      <td>False</td>\n",
              "    </tr>\n",
              "    <tr>\n",
              "      <th>...</th>\n",
              "      <td>...</td>\n",
              "      <td>...</td>\n",
              "      <td>...</td>\n",
              "      <td>...</td>\n",
              "      <td>...</td>\n",
              "      <td>...</td>\n",
              "      <td>...</td>\n",
              "      <td>...</td>\n",
              "      <td>...</td>\n",
              "      <td>...</td>\n",
              "      <td>...</td>\n",
              "      <td>...</td>\n",
              "      <td>...</td>\n",
              "      <td>...</td>\n",
              "      <td>...</td>\n",
              "      <td>...</td>\n",
              "      <td>...</td>\n",
              "      <td>...</td>\n",
              "      <td>...</td>\n",
              "      <td>...</td>\n",
              "      <td>...</td>\n",
              "    </tr>\n",
              "    <tr>\n",
              "      <th>fd422ac5f5772dc211a97910ea880db2</th>\n",
              "      <td>0</td>\n",
              "      <td>0</td>\n",
              "      <td>0</td>\n",
              "      <td>0</td>\n",
              "      <td>1</td>\n",
              "      <td>0</td>\n",
              "      <td>0</td>\n",
              "      <td>1</td>\n",
              "      <td>0</td>\n",
              "      <td>0</td>\n",
              "      <td>...</td>\n",
              "      <td>0</td>\n",
              "      <td>0</td>\n",
              "      <td>0</td>\n",
              "      <td>1</td>\n",
              "      <td>1</td>\n",
              "      <td>0</td>\n",
              "      <td>0</td>\n",
              "      <td>0</td>\n",
              "      <td>0</td>\n",
              "      <td>False</td>\n",
              "    </tr>\n",
              "    <tr>\n",
              "      <th>fd4a11b9abba7352308fabf80c122501</th>\n",
              "      <td>0</td>\n",
              "      <td>0</td>\n",
              "      <td>0</td>\n",
              "      <td>0</td>\n",
              "      <td>1</td>\n",
              "      <td>2</td>\n",
              "      <td>0</td>\n",
              "      <td>5</td>\n",
              "      <td>0</td>\n",
              "      <td>0</td>\n",
              "      <td>...</td>\n",
              "      <td>0</td>\n",
              "      <td>0</td>\n",
              "      <td>0</td>\n",
              "      <td>1</td>\n",
              "      <td>1</td>\n",
              "      <td>0</td>\n",
              "      <td>0</td>\n",
              "      <td>0</td>\n",
              "      <td>0</td>\n",
              "      <td>False</td>\n",
              "    </tr>\n",
              "    <tr>\n",
              "      <th>fd5bc86aa11a1c4b1d17f1e78f50e4a5</th>\n",
              "      <td>0</td>\n",
              "      <td>0</td>\n",
              "      <td>0</td>\n",
              "      <td>0</td>\n",
              "      <td>1</td>\n",
              "      <td>0</td>\n",
              "      <td>0</td>\n",
              "      <td>2</td>\n",
              "      <td>0</td>\n",
              "      <td>0</td>\n",
              "      <td>...</td>\n",
              "      <td>0</td>\n",
              "      <td>1</td>\n",
              "      <td>0</td>\n",
              "      <td>1</td>\n",
              "      <td>1</td>\n",
              "      <td>1</td>\n",
              "      <td>0</td>\n",
              "      <td>0</td>\n",
              "      <td>0</td>\n",
              "      <td>True</td>\n",
              "    </tr>\n",
              "    <tr>\n",
              "      <th>fdb8c0dd34b05d1f1b0eb6f1113df175</th>\n",
              "      <td>1</td>\n",
              "      <td>0</td>\n",
              "      <td>0</td>\n",
              "      <td>0</td>\n",
              "      <td>1</td>\n",
              "      <td>0</td>\n",
              "      <td>0</td>\n",
              "      <td>0</td>\n",
              "      <td>0</td>\n",
              "      <td>1</td>\n",
              "      <td>...</td>\n",
              "      <td>0</td>\n",
              "      <td>0</td>\n",
              "      <td>0</td>\n",
              "      <td>0</td>\n",
              "      <td>0</td>\n",
              "      <td>0</td>\n",
              "      <td>0</td>\n",
              "      <td>0</td>\n",
              "      <td>4</td>\n",
              "      <td>False</td>\n",
              "    </tr>\n",
              "    <tr>\n",
              "      <th>fdb9c5f6193e1cc735a2c59e14882b0f</th>\n",
              "      <td>0</td>\n",
              "      <td>0</td>\n",
              "      <td>0</td>\n",
              "      <td>0</td>\n",
              "      <td>1</td>\n",
              "      <td>0</td>\n",
              "      <td>0</td>\n",
              "      <td>1</td>\n",
              "      <td>0</td>\n",
              "      <td>0</td>\n",
              "      <td>...</td>\n",
              "      <td>0</td>\n",
              "      <td>0</td>\n",
              "      <td>0</td>\n",
              "      <td>1</td>\n",
              "      <td>1</td>\n",
              "      <td>1</td>\n",
              "      <td>0</td>\n",
              "      <td>0</td>\n",
              "      <td>0</td>\n",
              "      <td>True</td>\n",
              "    </tr>\n",
              "  </tbody>\n",
              "</table>\n",
              "<p>799 rows × 24 columns</p>\n",
              "</div>"
            ],
            "text/plain": [
              "event_name                        Account History Transaction Details  \\\n",
              "userid                                                                  \n",
              "0006869712ec9841dc36234bce245203                                    2   \n",
              "00596aa4edee32815aaf4aad659c484e                                    0   \n",
              "007b54670d72df309afd87befcbb63db                                    0   \n",
              "0136a8eeca5d16ac1a521dd0e27ecec0                                    0   \n",
              "01529f53aaba5b512168d432d5650556                                    2   \n",
              "...                                                               ...   \n",
              "fd422ac5f5772dc211a97910ea880db2                                    0   \n",
              "fd4a11b9abba7352308fabf80c122501                                    0   \n",
              "fd5bc86aa11a1c4b1d17f1e78f50e4a5                                    0   \n",
              "fdb8c0dd34b05d1f1b0eb6f1113df175                                    1   \n",
              "fdb9c5f6193e1cc735a2c59e14882b0f                                    0   \n",
              "\n",
              "event_name                        Account Setup Profile Skip  \\\n",
              "userid                                                         \n",
              "0006869712ec9841dc36234bce245203                           0   \n",
              "00596aa4edee32815aaf4aad659c484e                           0   \n",
              "007b54670d72df309afd87befcbb63db                           0   \n",
              "0136a8eeca5d16ac1a521dd0e27ecec0                           0   \n",
              "01529f53aaba5b512168d432d5650556                           0   \n",
              "...                                                      ...   \n",
              "fd422ac5f5772dc211a97910ea880db2                           0   \n",
              "fd4a11b9abba7352308fabf80c122501                           0   \n",
              "fd5bc86aa11a1c4b1d17f1e78f50e4a5                           0   \n",
              "fdb8c0dd34b05d1f1b0eb6f1113df175                           0   \n",
              "fdb9c5f6193e1cc735a2c59e14882b0f                           0   \n",
              "\n",
              "event_name                        Account Setup Skip  \\\n",
              "userid                                                 \n",
              "0006869712ec9841dc36234bce245203                   0   \n",
              "00596aa4edee32815aaf4aad659c484e                   0   \n",
              "007b54670d72df309afd87befcbb63db                   0   \n",
              "0136a8eeca5d16ac1a521dd0e27ecec0                   0   \n",
              "01529f53aaba5b512168d432d5650556                   0   \n",
              "...                                              ...   \n",
              "fd422ac5f5772dc211a97910ea880db2                   0   \n",
              "fd4a11b9abba7352308fabf80c122501                   0   \n",
              "fd5bc86aa11a1c4b1d17f1e78f50e4a5                   0   \n",
              "fdb8c0dd34b05d1f1b0eb6f1113df175                   0   \n",
              "fdb9c5f6193e1cc735a2c59e14882b0f                   0   \n",
              "\n",
              "event_name                        Add Payment Method Failed  \\\n",
              "userid                                                        \n",
              "0006869712ec9841dc36234bce245203                          0   \n",
              "00596aa4edee32815aaf4aad659c484e                          0   \n",
              "007b54670d72df309afd87befcbb63db                          0   \n",
              "0136a8eeca5d16ac1a521dd0e27ecec0                          1   \n",
              "01529f53aaba5b512168d432d5650556                          0   \n",
              "...                                                     ...   \n",
              "fd422ac5f5772dc211a97910ea880db2                          0   \n",
              "fd4a11b9abba7352308fabf80c122501                          0   \n",
              "fd5bc86aa11a1c4b1d17f1e78f50e4a5                          0   \n",
              "fdb8c0dd34b05d1f1b0eb6f1113df175                          0   \n",
              "fdb9c5f6193e1cc735a2c59e14882b0f                          0   \n",
              "\n",
              "event_name                        Add Payment Method Success  \\\n",
              "userid                                                         \n",
              "0006869712ec9841dc36234bce245203                           1   \n",
              "00596aa4edee32815aaf4aad659c484e                           2   \n",
              "007b54670d72df309afd87befcbb63db                           1   \n",
              "0136a8eeca5d16ac1a521dd0e27ecec0                           1   \n",
              "01529f53aaba5b512168d432d5650556                           1   \n",
              "...                                                      ...   \n",
              "fd422ac5f5772dc211a97910ea880db2                           1   \n",
              "fd4a11b9abba7352308fabf80c122501                           1   \n",
              "fd5bc86aa11a1c4b1d17f1e78f50e4a5                           1   \n",
              "fdb8c0dd34b05d1f1b0eb6f1113df175                           1   \n",
              "fdb9c5f6193e1cc735a2c59e14882b0f                           1   \n",
              "\n",
              "event_name                        Add Vehicle Break  Add Vehicle Failed  \\\n",
              "userid                                                                    \n",
              "0006869712ec9841dc36234bce245203                  0                   0   \n",
              "00596aa4edee32815aaf4aad659c484e                  0                   0   \n",
              "007b54670d72df309afd87befcbb63db                  1                   0   \n",
              "0136a8eeca5d16ac1a521dd0e27ecec0                  0                   0   \n",
              "01529f53aaba5b512168d432d5650556                  1                   0   \n",
              "...                                             ...                 ...   \n",
              "fd422ac5f5772dc211a97910ea880db2                  0                   0   \n",
              "fd4a11b9abba7352308fabf80c122501                  2                   0   \n",
              "fd5bc86aa11a1c4b1d17f1e78f50e4a5                  0                   0   \n",
              "fdb8c0dd34b05d1f1b0eb6f1113df175                  0                   0   \n",
              "fdb9c5f6193e1cc735a2c59e14882b0f                  0                   0   \n",
              "\n",
              "event_name                        Add Vehicle Success  Calculator Used  \\\n",
              "userid                                                                   \n",
              "0006869712ec9841dc36234bce245203                    1                0   \n",
              "00596aa4edee32815aaf4aad659c484e                    1                0   \n",
              "007b54670d72df309afd87befcbb63db                    1                0   \n",
              "0136a8eeca5d16ac1a521dd0e27ecec0                    1                0   \n",
              "01529f53aaba5b512168d432d5650556                    1                0   \n",
              "...                                               ...              ...   \n",
              "fd422ac5f5772dc211a97910ea880db2                    1                0   \n",
              "fd4a11b9abba7352308fabf80c122501                    5                0   \n",
              "fd5bc86aa11a1c4b1d17f1e78f50e4a5                    2                0   \n",
              "fdb8c0dd34b05d1f1b0eb6f1113df175                    0                0   \n",
              "fdb9c5f6193e1cc735a2c59e14882b0f                    1                0   \n",
              "\n",
              "event_name                        Calculator View  ...  Reset Password Set  \\\n",
              "userid                                             ...                       \n",
              "0006869712ec9841dc36234bce245203                0  ...                   0   \n",
              "00596aa4edee32815aaf4aad659c484e                0  ...                   0   \n",
              "007b54670d72df309afd87befcbb63db                0  ...                   0   \n",
              "0136a8eeca5d16ac1a521dd0e27ecec0                0  ...                   0   \n",
              "01529f53aaba5b512168d432d5650556                0  ...                   0   \n",
              "...                                           ...  ...                 ...   \n",
              "fd422ac5f5772dc211a97910ea880db2                0  ...                   0   \n",
              "fd4a11b9abba7352308fabf80c122501                0  ...                   0   \n",
              "fd5bc86aa11a1c4b1d17f1e78f50e4a5                0  ...                   0   \n",
              "fdb8c0dd34b05d1f1b0eb6f1113df175                1  ...                   0   \n",
              "fdb9c5f6193e1cc735a2c59e14882b0f                0  ...                   0   \n",
              "\n",
              "event_name                        Sign Out  Sign Up Error  Sign Up Success  \\\n",
              "userid                                                                       \n",
              "0006869712ec9841dc36234bce245203         0              0                0   \n",
              "00596aa4edee32815aaf4aad659c484e         0              0                1   \n",
              "007b54670d72df309afd87befcbb63db         0              0                1   \n",
              "0136a8eeca5d16ac1a521dd0e27ecec0         0              0                0   \n",
              "01529f53aaba5b512168d432d5650556         0              0                1   \n",
              "...                                    ...            ...              ...   \n",
              "fd422ac5f5772dc211a97910ea880db2         0              0                1   \n",
              "fd4a11b9abba7352308fabf80c122501         0              0                1   \n",
              "fd5bc86aa11a1c4b1d17f1e78f50e4a5         1              0                1   \n",
              "fdb8c0dd34b05d1f1b0eb6f1113df175         0              0                0   \n",
              "fdb9c5f6193e1cc735a2c59e14882b0f         0              0                1   \n",
              "\n",
              "event_name                        Subscription Premium  \\\n",
              "userid                                                   \n",
              "0006869712ec9841dc36234bce245203                     1   \n",
              "00596aa4edee32815aaf4aad659c484e                     1   \n",
              "007b54670d72df309afd87befcbb63db                     1   \n",
              "0136a8eeca5d16ac1a521dd0e27ecec0                     1   \n",
              "01529f53aaba5b512168d432d5650556                     1   \n",
              "...                                                ...   \n",
              "fd422ac5f5772dc211a97910ea880db2                     1   \n",
              "fd4a11b9abba7352308fabf80c122501                     1   \n",
              "fd5bc86aa11a1c4b1d17f1e78f50e4a5                     1   \n",
              "fdb8c0dd34b05d1f1b0eb6f1113df175                     0   \n",
              "fdb9c5f6193e1cc735a2c59e14882b0f                     1   \n",
              "\n",
              "event_name                        Subscription Premium Cancel  \\\n",
              "userid                                                          \n",
              "0006869712ec9841dc36234bce245203                            0   \n",
              "00596aa4edee32815aaf4aad659c484e                            0   \n",
              "007b54670d72df309afd87befcbb63db                            0   \n",
              "0136a8eeca5d16ac1a521dd0e27ecec0                            0   \n",
              "01529f53aaba5b512168d432d5650556                            0   \n",
              "...                                                       ...   \n",
              "fd422ac5f5772dc211a97910ea880db2                            0   \n",
              "fd4a11b9abba7352308fabf80c122501                            0   \n",
              "fd5bc86aa11a1c4b1d17f1e78f50e4a5                            1   \n",
              "fdb8c0dd34b05d1f1b0eb6f1113df175                            0   \n",
              "fdb9c5f6193e1cc735a2c59e14882b0f                            1   \n",
              "\n",
              "event_name                        Subscription Premium Renew  \\\n",
              "userid                                                         \n",
              "0006869712ec9841dc36234bce245203                           1   \n",
              "00596aa4edee32815aaf4aad659c484e                           0   \n",
              "007b54670d72df309afd87befcbb63db                           0   \n",
              "0136a8eeca5d16ac1a521dd0e27ecec0                           2   \n",
              "01529f53aaba5b512168d432d5650556                           0   \n",
              "...                                                      ...   \n",
              "fd422ac5f5772dc211a97910ea880db2                           0   \n",
              "fd4a11b9abba7352308fabf80c122501                           0   \n",
              "fd5bc86aa11a1c4b1d17f1e78f50e4a5                           0   \n",
              "fdb8c0dd34b05d1f1b0eb6f1113df175                           0   \n",
              "fdb9c5f6193e1cc735a2c59e14882b0f                           0   \n",
              "\n",
              "event_name                        Transaction Refund  Wallet Opened  gone_user  \n",
              "userid                                                                          \n",
              "0006869712ec9841dc36234bce245203                   0              0      False  \n",
              "00596aa4edee32815aaf4aad659c484e                   0              0      False  \n",
              "007b54670d72df309afd87befcbb63db                   0              0      False  \n",
              "0136a8eeca5d16ac1a521dd0e27ecec0                   0              0      False  \n",
              "01529f53aaba5b512168d432d5650556                   0              0      False  \n",
              "...                                              ...            ...        ...  \n",
              "fd422ac5f5772dc211a97910ea880db2                   0              0      False  \n",
              "fd4a11b9abba7352308fabf80c122501                   0              0      False  \n",
              "fd5bc86aa11a1c4b1d17f1e78f50e4a5                   0              0       True  \n",
              "fdb8c0dd34b05d1f1b0eb6f1113df175                   0              4      False  \n",
              "fdb9c5f6193e1cc735a2c59e14882b0f                   0              0       True  \n",
              "\n",
              "[799 rows x 24 columns]"
            ]
          },
          "execution_count": 8,
          "metadata": {},
          "output_type": "execute_result"
        }
      ],
      "source": [
        "df_events = df_subs[['userid', 'event_name', 'gone_user']]\n",
        "df_events_per_user = df_events.groupby(['userid', 'event_name']).count().unstack(level=1,fill_value=0)['gone_user']\n",
        "df_events_per_user['gone_user'] = df_events_per_user.index.isin(gone_users)\n",
        "df_events_per_user"
      ]
    },
    {
      "cell_type": "markdown",
      "metadata": {
        "id": "NQ41fRkaAxCe"
      },
      "source": [
        "Now we will find mean amounts of each event for subscribed and gone users. Then compare them to see which events indeed have higher or lower correlation with the potential account cancellation"
      ]
    },
    {
      "cell_type": "code",
      "execution_count": null,
      "metadata": {
        "id": "bP0S6-OhAxCe",
        "outputId": "b4b181ab-9f01-471f-ca50-8ef0c97043f8"
      },
      "outputs": [
        {
          "data": {
            "text/html": [
              "<div>\n",
              "<style scoped>\n",
              "    .dataframe tbody tr th:only-of-type {\n",
              "        vertical-align: middle;\n",
              "    }\n",
              "\n",
              "    .dataframe tbody tr th {\n",
              "        vertical-align: top;\n",
              "    }\n",
              "\n",
              "    .dataframe thead th {\n",
              "        text-align: right;\n",
              "    }\n",
              "</style>\n",
              "<table border=\"1\" class=\"dataframe\">\n",
              "  <thead>\n",
              "    <tr style=\"text-align: right;\">\n",
              "      <th>event_name</th>\n",
              "      <th>Account History Transaction Details</th>\n",
              "      <th>Account Setup Profile Skip</th>\n",
              "      <th>Account Setup Skip</th>\n",
              "      <th>Add Payment Method Failed</th>\n",
              "      <th>Add Payment Method Success</th>\n",
              "      <th>Add Vehicle Break</th>\n",
              "      <th>Add Vehicle Failed</th>\n",
              "      <th>Add Vehicle Success</th>\n",
              "      <th>Calculator Used</th>\n",
              "      <th>Calculator View</th>\n",
              "      <th>...</th>\n",
              "      <th>Order</th>\n",
              "      <th>Reset Password Set</th>\n",
              "      <th>Sign Out</th>\n",
              "      <th>Sign Up Error</th>\n",
              "      <th>Sign Up Success</th>\n",
              "      <th>Subscription Premium</th>\n",
              "      <th>Subscription Premium Cancel</th>\n",
              "      <th>Subscription Premium Renew</th>\n",
              "      <th>Transaction Refund</th>\n",
              "      <th>Wallet Opened</th>\n",
              "    </tr>\n",
              "    <tr>\n",
              "      <th>gone_user</th>\n",
              "      <th></th>\n",
              "      <th></th>\n",
              "      <th></th>\n",
              "      <th></th>\n",
              "      <th></th>\n",
              "      <th></th>\n",
              "      <th></th>\n",
              "      <th></th>\n",
              "      <th></th>\n",
              "      <th></th>\n",
              "      <th></th>\n",
              "      <th></th>\n",
              "      <th></th>\n",
              "      <th></th>\n",
              "      <th></th>\n",
              "      <th></th>\n",
              "      <th></th>\n",
              "      <th></th>\n",
              "      <th></th>\n",
              "      <th></th>\n",
              "      <th></th>\n",
              "    </tr>\n",
              "  </thead>\n",
              "  <tbody>\n",
              "    <tr>\n",
              "      <th>False</th>\n",
              "      <td>1.659537</td>\n",
              "      <td>0.099822</td>\n",
              "      <td>0.016043</td>\n",
              "      <td>0.11943</td>\n",
              "      <td>0.960784</td>\n",
              "      <td>0.180036</td>\n",
              "      <td>0.007130</td>\n",
              "      <td>1.001783</td>\n",
              "      <td>0.103387</td>\n",
              "      <td>0.454545</td>\n",
              "      <td>...</td>\n",
              "      <td>8.631016</td>\n",
              "      <td>0.001783</td>\n",
              "      <td>0.190731</td>\n",
              "      <td>0.001783</td>\n",
              "      <td>0.836007</td>\n",
              "      <td>0.869875</td>\n",
              "      <td>0.000000</td>\n",
              "      <td>0.488414</td>\n",
              "      <td>0.005348</td>\n",
              "      <td>1.256684</td>\n",
              "    </tr>\n",
              "    <tr>\n",
              "      <th>True</th>\n",
              "      <td>2.239496</td>\n",
              "      <td>0.235294</td>\n",
              "      <td>0.042017</td>\n",
              "      <td>0.10084</td>\n",
              "      <td>1.046218</td>\n",
              "      <td>0.231092</td>\n",
              "      <td>0.004202</td>\n",
              "      <td>0.957983</td>\n",
              "      <td>0.084034</td>\n",
              "      <td>0.563025</td>\n",
              "      <td>...</td>\n",
              "      <td>2.924370</td>\n",
              "      <td>0.000000</td>\n",
              "      <td>1.063025</td>\n",
              "      <td>0.004202</td>\n",
              "      <td>0.915966</td>\n",
              "      <td>0.936975</td>\n",
              "      <td>1.079832</td>\n",
              "      <td>0.151261</td>\n",
              "      <td>0.390756</td>\n",
              "      <td>2.109244</td>\n",
              "    </tr>\n",
              "  </tbody>\n",
              "</table>\n",
              "<p>2 rows × 23 columns</p>\n",
              "</div>"
            ],
            "text/plain": [
              "event_name  Account History Transaction Details  Account Setup Profile Skip  \\\n",
              "gone_user                                                                     \n",
              "False                                  1.659537                    0.099822   \n",
              "True                                   2.239496                    0.235294   \n",
              "\n",
              "event_name  Account Setup Skip  Add Payment Method Failed  \\\n",
              "gone_user                                                   \n",
              "False                 0.016043                    0.11943   \n",
              "True                  0.042017                    0.10084   \n",
              "\n",
              "event_name  Add Payment Method Success  Add Vehicle Break  Add Vehicle Failed  \\\n",
              "gone_user                                                                       \n",
              "False                         0.960784           0.180036            0.007130   \n",
              "True                          1.046218           0.231092            0.004202   \n",
              "\n",
              "event_name  Add Vehicle Success  Calculator Used  Calculator View  ...  \\\n",
              "gone_user                                                          ...   \n",
              "False                  1.001783         0.103387         0.454545  ...   \n",
              "True                   0.957983         0.084034         0.563025  ...   \n",
              "\n",
              "event_name     Order  Reset Password Set  Sign Out  Sign Up Error  \\\n",
              "gone_user                                                           \n",
              "False       8.631016            0.001783  0.190731       0.001783   \n",
              "True        2.924370            0.000000  1.063025       0.004202   \n",
              "\n",
              "event_name  Sign Up Success  Subscription Premium  \\\n",
              "gone_user                                           \n",
              "False              0.836007              0.869875   \n",
              "True               0.915966              0.936975   \n",
              "\n",
              "event_name  Subscription Premium Cancel  Subscription Premium Renew  \\\n",
              "gone_user                                                             \n",
              "False                          0.000000                    0.488414   \n",
              "True                           1.079832                    0.151261   \n",
              "\n",
              "event_name  Transaction Refund  Wallet Opened  \n",
              "gone_user                                      \n",
              "False                 0.005348       1.256684  \n",
              "True                  0.390756       2.109244  \n",
              "\n",
              "[2 rows x 23 columns]"
            ]
          },
          "execution_count": 9,
          "metadata": {},
          "output_type": "execute_result"
        }
      ],
      "source": [
        "df_mean_events = df_events_per_user.groupby(['gone_user']).mean()\n",
        "df_mean_events"
      ]
    },
    {
      "cell_type": "markdown",
      "metadata": {
        "id": "2Bya-tGtAxCf"
      },
      "source": [
        "Add to df_mean_events a row with the number of entries for each event"
      ]
    },
    {
      "cell_type": "code",
      "execution_count": null,
      "metadata": {
        "id": "p6cA79FKAxCf"
      },
      "outputs": [],
      "source": [
        "df_sum_events = df_events_per_user\n",
        "df_mean_events.loc['total'] = df_sum_events.sum(numeric_only=True, axis=0)"
      ]
    },
    {
      "cell_type": "code",
      "execution_count": null,
      "metadata": {
        "id": "DFWdM8HXAxCf",
        "outputId": "36d1d814-75e6-4ced-f97d-7af598b89f2e"
      },
      "outputs": [
        {
          "data": {
            "text/html": [
              "<div>\n",
              "<style scoped>\n",
              "    .dataframe tbody tr th:only-of-type {\n",
              "        vertical-align: middle;\n",
              "    }\n",
              "\n",
              "    .dataframe tbody tr th {\n",
              "        vertical-align: top;\n",
              "    }\n",
              "\n",
              "    .dataframe thead th {\n",
              "        text-align: right;\n",
              "    }\n",
              "</style>\n",
              "<table border=\"1\" class=\"dataframe\">\n",
              "  <thead>\n",
              "    <tr style=\"text-align: right;\">\n",
              "      <th>event_name</th>\n",
              "      <th>Account History Transaction Details</th>\n",
              "      <th>Account Setup Profile Skip</th>\n",
              "      <th>Account Setup Skip</th>\n",
              "      <th>Add Payment Method Failed</th>\n",
              "      <th>Add Payment Method Success</th>\n",
              "      <th>Add Vehicle Break</th>\n",
              "      <th>Add Vehicle Failed</th>\n",
              "      <th>Add Vehicle Success</th>\n",
              "      <th>Calculator Used</th>\n",
              "      <th>Calculator View</th>\n",
              "      <th>...</th>\n",
              "      <th>Order</th>\n",
              "      <th>Reset Password Set</th>\n",
              "      <th>Sign Out</th>\n",
              "      <th>Sign Up Error</th>\n",
              "      <th>Sign Up Success</th>\n",
              "      <th>Subscription Premium</th>\n",
              "      <th>Subscription Premium Cancel</th>\n",
              "      <th>Subscription Premium Renew</th>\n",
              "      <th>Transaction Refund</th>\n",
              "      <th>Wallet Opened</th>\n",
              "    </tr>\n",
              "    <tr>\n",
              "      <th>gone_user</th>\n",
              "      <th></th>\n",
              "      <th></th>\n",
              "      <th></th>\n",
              "      <th></th>\n",
              "      <th></th>\n",
              "      <th></th>\n",
              "      <th></th>\n",
              "      <th></th>\n",
              "      <th></th>\n",
              "      <th></th>\n",
              "      <th></th>\n",
              "      <th></th>\n",
              "      <th></th>\n",
              "      <th></th>\n",
              "      <th></th>\n",
              "      <th></th>\n",
              "      <th></th>\n",
              "      <th></th>\n",
              "      <th></th>\n",
              "      <th></th>\n",
              "      <th></th>\n",
              "    </tr>\n",
              "  </thead>\n",
              "  <tbody>\n",
              "    <tr>\n",
              "      <th>False</th>\n",
              "      <td>1.659537</td>\n",
              "      <td>0.099822</td>\n",
              "      <td>0.016043</td>\n",
              "      <td>0.11943</td>\n",
              "      <td>0.960784</td>\n",
              "      <td>0.180036</td>\n",
              "      <td>0.007130</td>\n",
              "      <td>1.001783</td>\n",
              "      <td>0.103387</td>\n",
              "      <td>0.454545</td>\n",
              "      <td>...</td>\n",
              "      <td>8.631016</td>\n",
              "      <td>0.001783</td>\n",
              "      <td>0.190731</td>\n",
              "      <td>0.001783</td>\n",
              "      <td>0.836007</td>\n",
              "      <td>0.869875</td>\n",
              "      <td>0.000000</td>\n",
              "      <td>0.488414</td>\n",
              "      <td>0.005348</td>\n",
              "      <td>1.256684</td>\n",
              "    </tr>\n",
              "    <tr>\n",
              "      <th>True</th>\n",
              "      <td>2.239496</td>\n",
              "      <td>0.235294</td>\n",
              "      <td>0.042017</td>\n",
              "      <td>0.10084</td>\n",
              "      <td>1.046218</td>\n",
              "      <td>0.231092</td>\n",
              "      <td>0.004202</td>\n",
              "      <td>0.957983</td>\n",
              "      <td>0.084034</td>\n",
              "      <td>0.563025</td>\n",
              "      <td>...</td>\n",
              "      <td>2.924370</td>\n",
              "      <td>0.000000</td>\n",
              "      <td>1.063025</td>\n",
              "      <td>0.004202</td>\n",
              "      <td>0.915966</td>\n",
              "      <td>0.936975</td>\n",
              "      <td>1.079832</td>\n",
              "      <td>0.151261</td>\n",
              "      <td>0.390756</td>\n",
              "      <td>2.109244</td>\n",
              "    </tr>\n",
              "    <tr>\n",
              "      <th>total</th>\n",
              "      <td>1464.000000</td>\n",
              "      <td>112.000000</td>\n",
              "      <td>19.000000</td>\n",
              "      <td>91.00000</td>\n",
              "      <td>788.000000</td>\n",
              "      <td>156.000000</td>\n",
              "      <td>5.000000</td>\n",
              "      <td>790.000000</td>\n",
              "      <td>78.000000</td>\n",
              "      <td>389.000000</td>\n",
              "      <td>...</td>\n",
              "      <td>5538.000000</td>\n",
              "      <td>1.000000</td>\n",
              "      <td>360.000000</td>\n",
              "      <td>2.000000</td>\n",
              "      <td>687.000000</td>\n",
              "      <td>711.000000</td>\n",
              "      <td>257.000000</td>\n",
              "      <td>310.000000</td>\n",
              "      <td>96.000000</td>\n",
              "      <td>1207.000000</td>\n",
              "    </tr>\n",
              "  </tbody>\n",
              "</table>\n",
              "<p>3 rows × 23 columns</p>\n",
              "</div>"
            ],
            "text/plain": [
              "event_name  Account History Transaction Details  Account Setup Profile Skip  \\\n",
              "gone_user                                                                     \n",
              "False                                  1.659537                    0.099822   \n",
              "True                                   2.239496                    0.235294   \n",
              "total                               1464.000000                  112.000000   \n",
              "\n",
              "event_name  Account Setup Skip  Add Payment Method Failed  \\\n",
              "gone_user                                                   \n",
              "False                 0.016043                    0.11943   \n",
              "True                  0.042017                    0.10084   \n",
              "total                19.000000                   91.00000   \n",
              "\n",
              "event_name  Add Payment Method Success  Add Vehicle Break  Add Vehicle Failed  \\\n",
              "gone_user                                                                       \n",
              "False                         0.960784           0.180036            0.007130   \n",
              "True                          1.046218           0.231092            0.004202   \n",
              "total                       788.000000         156.000000            5.000000   \n",
              "\n",
              "event_name  Add Vehicle Success  Calculator Used  Calculator View  ...  \\\n",
              "gone_user                                                          ...   \n",
              "False                  1.001783         0.103387         0.454545  ...   \n",
              "True                   0.957983         0.084034         0.563025  ...   \n",
              "total                790.000000        78.000000       389.000000  ...   \n",
              "\n",
              "event_name        Order  Reset Password Set    Sign Out  Sign Up Error  \\\n",
              "gone_user                                                                \n",
              "False          8.631016            0.001783    0.190731       0.001783   \n",
              "True           2.924370            0.000000    1.063025       0.004202   \n",
              "total       5538.000000            1.000000  360.000000       2.000000   \n",
              "\n",
              "event_name  Sign Up Success  Subscription Premium  \\\n",
              "gone_user                                           \n",
              "False              0.836007              0.869875   \n",
              "True               0.915966              0.936975   \n",
              "total            687.000000            711.000000   \n",
              "\n",
              "event_name  Subscription Premium Cancel  Subscription Premium Renew  \\\n",
              "gone_user                                                             \n",
              "False                          0.000000                    0.488414   \n",
              "True                           1.079832                    0.151261   \n",
              "total                        257.000000                  310.000000   \n",
              "\n",
              "event_name  Transaction Refund  Wallet Opened  \n",
              "gone_user                                      \n",
              "False                 0.005348       1.256684  \n",
              "True                  0.390756       2.109244  \n",
              "total                96.000000    1207.000000  \n",
              "\n",
              "[3 rows x 23 columns]"
            ]
          },
          "execution_count": 11,
          "metadata": {},
          "output_type": "execute_result"
        }
      ],
      "source": [
        "df_mean_events"
      ]
    },
    {
      "cell_type": "markdown",
      "metadata": {
        "id": "M7DkbN_ZAxCf"
      },
      "source": [
        "Based on the data frame above, we will calculate the \"rank\" for each event in order to be able to prioritize them\n",
        "\n",
        "**How we are calculate 'rank':**\n",
        "\n",
        "first in the \"ratio\" column we find the difference between 1 and 2 as a percentage\n",
        "\n",
        "\n",
        "**The 'rank' column is calculated by multiplying the 'ratio' by the share of entries for the event** \n",
        "\n",
        "share of entries  - the number of records of one event is divided by the number of records of the most frequent event\n",
        "\n",
        "\\\n",
        "\n",
        "Delete 'Subscription Premium Cancel', 'Subscription Premium' events as irrelevant\n"
      ]
    },
    {
      "cell_type": "code",
      "execution_count": null,
      "metadata": {
        "id": "nqntJx9OAxCg",
        "outputId": "5d02a8b7-35fd-4153-f9c1-fafcf84c7b73"
      },
      "outputs": [
        {
          "data": {
            "text/html": [
              "<div>\n",
              "<style scoped>\n",
              "    .dataframe tbody tr th:only-of-type {\n",
              "        vertical-align: middle;\n",
              "    }\n",
              "\n",
              "    .dataframe tbody tr th {\n",
              "        vertical-align: top;\n",
              "    }\n",
              "\n",
              "    .dataframe thead th {\n",
              "        text-align: right;\n",
              "    }\n",
              "</style>\n",
              "<table border=\"1\" class=\"dataframe\">\n",
              "  <thead>\n",
              "    <tr style=\"text-align: right;\">\n",
              "      <th>gone_user</th>\n",
              "      <th>event_name</th>\n",
              "      <th>not_gone</th>\n",
              "      <th>gone</th>\n",
              "      <th>total</th>\n",
              "      <th>ratio</th>\n",
              "      <th>rank</th>\n",
              "    </tr>\n",
              "  </thead>\n",
              "  <tbody>\n",
              "    <tr>\n",
              "      <th>21</th>\n",
              "      <td>Transaction Refund</td>\n",
              "      <td>0.005348</td>\n",
              "      <td>0.390756</td>\n",
              "      <td>96.0</td>\n",
              "      <td>7207.142857</td>\n",
              "      <td>124.934221</td>\n",
              "    </tr>\n",
              "    <tr>\n",
              "      <th>11</th>\n",
              "      <td>Chat Conversation Started</td>\n",
              "      <td>0.390374</td>\n",
              "      <td>2.836134</td>\n",
              "      <td>894.0</td>\n",
              "      <td>626.516634</td>\n",
              "      <td>101.138655</td>\n",
              "    </tr>\n",
              "    <tr>\n",
              "      <th>10</th>\n",
              "      <td>Chat Conversation Opened</td>\n",
              "      <td>0.709447</td>\n",
              "      <td>3.037815</td>\n",
              "      <td>1121.0</td>\n",
              "      <td>328.194544</td>\n",
              "      <td>66.433023</td>\n",
              "    </tr>\n",
              "    <tr>\n",
              "      <th>13</th>\n",
              "      <td>Order</td>\n",
              "      <td>8.631016</td>\n",
              "      <td>2.924370</td>\n",
              "      <td>5538.0</td>\n",
              "      <td>66.117897</td>\n",
              "      <td>66.117897</td>\n",
              "    </tr>\n",
              "    <tr>\n",
              "      <th>15</th>\n",
              "      <td>Sign Out</td>\n",
              "      <td>0.190731</td>\n",
              "      <td>1.063025</td>\n",
              "      <td>360.0</td>\n",
              "      <td>457.343124</td>\n",
              "      <td>29.729781</td>\n",
              "    </tr>\n",
              "    <tr>\n",
              "      <th>22</th>\n",
              "      <td>Wallet Opened</td>\n",
              "      <td>1.256684</td>\n",
              "      <td>2.109244</td>\n",
              "      <td>1207.0</td>\n",
              "      <td>67.841945</td>\n",
              "      <td>14.786065</td>\n",
              "    </tr>\n",
              "    <tr>\n",
              "      <th>0</th>\n",
              "      <td>Account History Transaction Details</td>\n",
              "      <td>1.659537</td>\n",
              "      <td>2.239496</td>\n",
              "      <td>1464.0</td>\n",
              "      <td>34.947062</td>\n",
              "      <td>9.238443</td>\n",
              "    </tr>\n",
              "    <tr>\n",
              "      <th>20</th>\n",
              "      <td>Subscription Premium Renew</td>\n",
              "      <td>0.488414</td>\n",
              "      <td>0.151261</td>\n",
              "      <td>310.0</td>\n",
              "      <td>69.030240</td>\n",
              "      <td>3.864098</td>\n",
              "    </tr>\n",
              "    <tr>\n",
              "      <th>1</th>\n",
              "      <td>Account Setup Profile Skip</td>\n",
              "      <td>0.099822</td>\n",
              "      <td>0.235294</td>\n",
              "      <td>112.0</td>\n",
              "      <td>135.714286</td>\n",
              "      <td>2.744673</td>\n",
              "    </tr>\n",
              "    <tr>\n",
              "      <th>9</th>\n",
              "      <td>Calculator View</td>\n",
              "      <td>0.454545</td>\n",
              "      <td>0.563025</td>\n",
              "      <td>389.0</td>\n",
              "      <td>23.865546</td>\n",
              "      <td>1.676363</td>\n",
              "    </tr>\n",
              "    <tr>\n",
              "      <th>4</th>\n",
              "      <td>Add Payment Method Success</td>\n",
              "      <td>0.960784</td>\n",
              "      <td>1.046218</td>\n",
              "      <td>788.0</td>\n",
              "      <td>8.892128</td>\n",
              "      <td>1.265258</td>\n",
              "    </tr>\n",
              "    <tr>\n",
              "      <th>17</th>\n",
              "      <td>Sign Up Success</td>\n",
              "      <td>0.836007</td>\n",
              "      <td>0.915966</td>\n",
              "      <td>687.0</td>\n",
              "      <td>9.564423</td>\n",
              "      <td>1.186486</td>\n",
              "    </tr>\n",
              "    <tr>\n",
              "      <th>5</th>\n",
              "      <td>Add Vehicle Break</td>\n",
              "      <td>0.180036</td>\n",
              "      <td>0.231092</td>\n",
              "      <td>156.0</td>\n",
              "      <td>28.359264</td>\n",
              "      <td>0.798853</td>\n",
              "    </tr>\n",
              "    <tr>\n",
              "      <th>7</th>\n",
              "      <td>Add Vehicle Success</td>\n",
              "      <td>1.001783</td>\n",
              "      <td>0.957983</td>\n",
              "      <td>790.0</td>\n",
              "      <td>4.372140</td>\n",
              "      <td>0.623689</td>\n",
              "    </tr>\n",
              "    <tr>\n",
              "      <th>2</th>\n",
              "      <td>Account Setup Skip</td>\n",
              "      <td>0.016043</td>\n",
              "      <td>0.042017</td>\n",
              "      <td>19.0</td>\n",
              "      <td>161.904762</td>\n",
              "      <td>0.555470</td>\n",
              "    </tr>\n",
              "    <tr>\n",
              "      <th>12</th>\n",
              "      <td>Email Confirmation Success</td>\n",
              "      <td>0.256684</td>\n",
              "      <td>0.289916</td>\n",
              "      <td>213.0</td>\n",
              "      <td>12.946429</td>\n",
              "      <td>0.497940</td>\n",
              "    </tr>\n",
              "    <tr>\n",
              "      <th>8</th>\n",
              "      <td>Calculator Used</td>\n",
              "      <td>0.103387</td>\n",
              "      <td>0.084034</td>\n",
              "      <td>78.0</td>\n",
              "      <td>18.719212</td>\n",
              "      <td>0.263651</td>\n",
              "    </tr>\n",
              "    <tr>\n",
              "      <th>3</th>\n",
              "      <td>Add Payment Method Failed</td>\n",
              "      <td>0.119430</td>\n",
              "      <td>0.100840</td>\n",
              "      <td>91.0</td>\n",
              "      <td>15.565032</td>\n",
              "      <td>0.255763</td>\n",
              "    </tr>\n",
              "    <tr>\n",
              "      <th>16</th>\n",
              "      <td>Sign Up Error</td>\n",
              "      <td>0.001783</td>\n",
              "      <td>0.004202</td>\n",
              "      <td>2.0</td>\n",
              "      <td>135.714286</td>\n",
              "      <td>0.049012</td>\n",
              "    </tr>\n",
              "    <tr>\n",
              "      <th>6</th>\n",
              "      <td>Add Vehicle Failed</td>\n",
              "      <td>0.007130</td>\n",
              "      <td>0.004202</td>\n",
              "      <td>5.0</td>\n",
              "      <td>41.071429</td>\n",
              "      <td>0.037081</td>\n",
              "    </tr>\n",
              "    <tr>\n",
              "      <th>14</th>\n",
              "      <td>Reset Password Set</td>\n",
              "      <td>0.001783</td>\n",
              "      <td>0.000000</td>\n",
              "      <td>1.0</td>\n",
              "      <td>100.000000</td>\n",
              "      <td>0.018057</td>\n",
              "    </tr>\n",
              "  </tbody>\n",
              "</table>\n",
              "</div>"
            ],
            "text/plain": [
              "gone_user                           event_name  not_gone      gone   total  \\\n",
              "21                          Transaction Refund  0.005348  0.390756    96.0   \n",
              "11                   Chat Conversation Started  0.390374  2.836134   894.0   \n",
              "10                    Chat Conversation Opened  0.709447  3.037815  1121.0   \n",
              "13                                       Order  8.631016  2.924370  5538.0   \n",
              "15                                    Sign Out  0.190731  1.063025   360.0   \n",
              "22                               Wallet Opened  1.256684  2.109244  1207.0   \n",
              "0          Account History Transaction Details  1.659537  2.239496  1464.0   \n",
              "20                  Subscription Premium Renew  0.488414  0.151261   310.0   \n",
              "1                   Account Setup Profile Skip  0.099822  0.235294   112.0   \n",
              "9                              Calculator View  0.454545  0.563025   389.0   \n",
              "4                   Add Payment Method Success  0.960784  1.046218   788.0   \n",
              "17                             Sign Up Success  0.836007  0.915966   687.0   \n",
              "5                            Add Vehicle Break  0.180036  0.231092   156.0   \n",
              "7                          Add Vehicle Success  1.001783  0.957983   790.0   \n",
              "2                           Account Setup Skip  0.016043  0.042017    19.0   \n",
              "12                  Email Confirmation Success  0.256684  0.289916   213.0   \n",
              "8                              Calculator Used  0.103387  0.084034    78.0   \n",
              "3                    Add Payment Method Failed  0.119430  0.100840    91.0   \n",
              "16                               Sign Up Error  0.001783  0.004202     2.0   \n",
              "6                           Add Vehicle Failed  0.007130  0.004202     5.0   \n",
              "14                          Reset Password Set  0.001783  0.000000     1.0   \n",
              "\n",
              "gone_user        ratio        rank  \n",
              "21         7207.142857  124.934221  \n",
              "11          626.516634  101.138655  \n",
              "10          328.194544   66.433023  \n",
              "13           66.117897   66.117897  \n",
              "15          457.343124   29.729781  \n",
              "22           67.841945   14.786065  \n",
              "0            34.947062    9.238443  \n",
              "20           69.030240    3.864098  \n",
              "1           135.714286    2.744673  \n",
              "9            23.865546    1.676363  \n",
              "4             8.892128    1.265258  \n",
              "17            9.564423    1.186486  \n",
              "5            28.359264    0.798853  \n",
              "7             4.372140    0.623689  \n",
              "2           161.904762    0.555470  \n",
              "12           12.946429    0.497940  \n",
              "8            18.719212    0.263651  \n",
              "3            15.565032    0.255763  \n",
              "16          135.714286    0.049012  \n",
              "6            41.071429    0.037081  \n",
              "14          100.000000    0.018057  "
            ]
          },
          "execution_count": 12,
          "metadata": {},
          "output_type": "execute_result"
        }
      ],
      "source": [
        "df_events_stats = df_mean_events.T.reset_index().rename(columns={False:'not_gone', True:'gone'}).sort_values('gone', ascending=False)\n",
        "df_events_stats['ratio'] = np.abs(df_events_stats['gone'] - df_events_stats['not_gone'])/df_events_stats['not_gone'] * 100\n",
        "\n",
        "df_events_stats['rank'] = df_events_stats['ratio'] * (df_events_stats['total']/df_events_stats['total'].max())\n",
        "\n",
        "df_events_stats = df_events_stats[~df_events_stats.event_name.isin(['Subscription Premium Cancel', 'Subscription Premium'])]\n",
        "\n",
        "df_events_stats = df_events_stats.sort_values('rank', ascending=False)\n",
        "df_events_stats"
      ]
    },
    {
      "cell_type": "markdown",
      "metadata": {
        "id": "ikXm-xhWAxCg"
      },
      "source": [
        "Plotting results"
      ]
    },
    {
      "cell_type": "code",
      "execution_count": null,
      "metadata": {
        "id": "FM_1Qwg_AxCg",
        "outputId": "3186c1b6-703d-4628-aef1-3d0d2c3c01c2"
      },
      "outputs": [
        {
          "data": {
            "text/plain": [
              "<AxesSubplot: xlabel='event_name'>"
            ]
          },
          "execution_count": 13,
          "metadata": {},
          "output_type": "execute_result"
        },
        {
          "data": {
            "image/png": "[encoded data removed]",
            "text/plain": [
              "<Figure size 1500x500 with 1 Axes>"
            ]
          },
          "metadata": {},
          "output_type": "display_data"
        }
      ],
      "source": [
        "df_events_stats.plot(kind='bar',y=['not_gone', 'gone'], x='event_name', rot=90, figsize=(15,5))"
      ]
    },
    {
      "cell_type": "markdown",
      "metadata": {
        "id": "fiENijpZAxCg"
      },
      "source": [
        "# Events prioritization\n",
        "\n",
        "As we can see, events:\n",
        "**Transaction Refund,**\n",
        "**Chat Conversation Started,**\n",
        "**Chat Conversation Opened,**\n",
        "**Order,**\n",
        "**Sign Out,**\n",
        "**Wallet Opened,**\n",
        "**Account History Transaction Details**\n",
        "\n",
        "\n",
        "\n",
        "*have really significant difference, so now we can say that these events have the highest correlation with the potential account cancellation.*\n",
        "\n",
        "\\\n",
        "\n",
        "Therefore, other events such as: \n",
        "\n",
        "\n",
        "Subscription Premium Renew,\n",
        "Account Setup Profile Skip,\n",
        "Calculator view,\n",
        "Add Payment Method Success,\n",
        "Sign Up Success,\n",
        "Add Vehicle Break,\n",
        "Email Confirmation Success,\n",
        "Account Setup Skip,\n",
        "Sign Up Error,\n",
        "Reset Password Set,\n",
        "Add Vehicle Failed,\n",
        "Add Payment Method Failed,\n",
        "Calculator Used,\n",
        "Add Vehicle Success\n",
        "\n",
        "*have almost equal means, so they have the lowest correlation.*\n",
        "\n",
        "\\\n",
        "Also, we are not interested in Subscription Premium, Subscription Premium Cancel events."
      ]
    },
    {
      "cell_type": "markdown",
      "metadata": {
        "id": "IeL1SrFrAxCh"
      },
      "source": [
        "# Now we will research correlation for events with states.\n",
        "\n"
      ]
    },
    {
      "cell_type": "markdown",
      "metadata": {
        "id": "zq2kict6AxCh"
      },
      "source": [
        "## Getting states ranking for Transaction Refund"
      ]
    },
    {
      "cell_type": "markdown",
      "metadata": {
        "id": "0faH8c-eAxCh"
      },
      "source": [
        "Firstly, let's do this for Transaction Refund. In next cell we count how often this event occured in each state"
      ]
    },
    {
      "cell_type": "code",
      "execution_count": null,
      "metadata": {
        "id": "fBHeHH9-AxCh",
        "outputId": "31dc0054-5eb1-480e-8bbd-a3d76539a3ae"
      },
      "outputs": [
        {
          "data": {
            "text/html": [
              "<div>\n",
              "<style scoped>\n",
              "    .dataframe tbody tr th:only-of-type {\n",
              "        vertical-align: middle;\n",
              "    }\n",
              "\n",
              "    .dataframe tbody tr th {\n",
              "        vertical-align: top;\n",
              "    }\n",
              "\n",
              "    .dataframe thead th {\n",
              "        text-align: right;\n",
              "    }\n",
              "</style>\n",
              "<table border=\"1\" class=\"dataframe\">\n",
              "  <thead>\n",
              "    <tr style=\"text-align: right;\">\n",
              "      <th>user_state</th>\n",
              "      <th>AL</th>\n",
              "      <th>AZ</th>\n",
              "      <th>CA</th>\n",
              "      <th>DC</th>\n",
              "      <th>FL</th>\n",
              "      <th>GA</th>\n",
              "      <th>IL</th>\n",
              "      <th>IN</th>\n",
              "      <th>NJ</th>\n",
              "      <th>NY</th>\n",
              "      <th>TX</th>\n",
              "      <th>VA</th>\n",
              "      <th>WV</th>\n",
              "      <th>gone_user</th>\n",
              "    </tr>\n",
              "    <tr>\n",
              "      <th>userid</th>\n",
              "      <th></th>\n",
              "      <th></th>\n",
              "      <th></th>\n",
              "      <th></th>\n",
              "      <th></th>\n",
              "      <th></th>\n",
              "      <th></th>\n",
              "      <th></th>\n",
              "      <th></th>\n",
              "      <th></th>\n",
              "      <th></th>\n",
              "      <th></th>\n",
              "      <th></th>\n",
              "      <th></th>\n",
              "    </tr>\n",
              "  </thead>\n",
              "  <tbody>\n",
              "    <tr>\n",
              "      <th>0871c09afb84920b8bfd27b3c328c86a</th>\n",
              "      <td>0</td>\n",
              "      <td>0</td>\n",
              "      <td>0</td>\n",
              "      <td>0</td>\n",
              "      <td>1</td>\n",
              "      <td>0</td>\n",
              "      <td>0</td>\n",
              "      <td>0</td>\n",
              "      <td>0</td>\n",
              "      <td>0</td>\n",
              "      <td>0</td>\n",
              "      <td>0</td>\n",
              "      <td>0</td>\n",
              "      <td>True</td>\n",
              "    </tr>\n",
              "    <tr>\n",
              "      <th>0bd397383b7b3070af45cb75d9e44c30</th>\n",
              "      <td>0</td>\n",
              "      <td>0</td>\n",
              "      <td>1</td>\n",
              "      <td>0</td>\n",
              "      <td>0</td>\n",
              "      <td>0</td>\n",
              "      <td>0</td>\n",
              "      <td>0</td>\n",
              "      <td>0</td>\n",
              "      <td>0</td>\n",
              "      <td>0</td>\n",
              "      <td>0</td>\n",
              "      <td>0</td>\n",
              "      <td>True</td>\n",
              "    </tr>\n",
              "    <tr>\n",
              "      <th>0fc0cec5a0e21c62feb9a7c5217c36d8</th>\n",
              "      <td>0</td>\n",
              "      <td>0</td>\n",
              "      <td>0</td>\n",
              "      <td>0</td>\n",
              "      <td>3</td>\n",
              "      <td>0</td>\n",
              "      <td>0</td>\n",
              "      <td>0</td>\n",
              "      <td>0</td>\n",
              "      <td>0</td>\n",
              "      <td>0</td>\n",
              "      <td>0</td>\n",
              "      <td>0</td>\n",
              "      <td>True</td>\n",
              "    </tr>\n",
              "    <tr>\n",
              "      <th>11b9f94b9c956fa7197e02323663a454</th>\n",
              "      <td>0</td>\n",
              "      <td>0</td>\n",
              "      <td>0</td>\n",
              "      <td>0</td>\n",
              "      <td>0</td>\n",
              "      <td>0</td>\n",
              "      <td>0</td>\n",
              "      <td>0</td>\n",
              "      <td>0</td>\n",
              "      <td>1</td>\n",
              "      <td>0</td>\n",
              "      <td>0</td>\n",
              "      <td>0</td>\n",
              "      <td>True</td>\n",
              "    </tr>\n",
              "    <tr>\n",
              "      <th>13d8a03074dd4502c5acb82fc65e2b33</th>\n",
              "      <td>0</td>\n",
              "      <td>0</td>\n",
              "      <td>1</td>\n",
              "      <td>0</td>\n",
              "      <td>0</td>\n",
              "      <td>0</td>\n",
              "      <td>0</td>\n",
              "      <td>0</td>\n",
              "      <td>0</td>\n",
              "      <td>0</td>\n",
              "      <td>0</td>\n",
              "      <td>0</td>\n",
              "      <td>0</td>\n",
              "      <td>True</td>\n",
              "    </tr>\n",
              "    <tr>\n",
              "      <th>...</th>\n",
              "      <td>...</td>\n",
              "      <td>...</td>\n",
              "      <td>...</td>\n",
              "      <td>...</td>\n",
              "      <td>...</td>\n",
              "      <td>...</td>\n",
              "      <td>...</td>\n",
              "      <td>...</td>\n",
              "      <td>...</td>\n",
              "      <td>...</td>\n",
              "      <td>...</td>\n",
              "      <td>...</td>\n",
              "      <td>...</td>\n",
              "      <td>...</td>\n",
              "    </tr>\n",
              "    <tr>\n",
              "      <th>dfdd0c050e79fc5ad02384f4e1b8411c</th>\n",
              "      <td>0</td>\n",
              "      <td>0</td>\n",
              "      <td>0</td>\n",
              "      <td>0</td>\n",
              "      <td>0</td>\n",
              "      <td>0</td>\n",
              "      <td>0</td>\n",
              "      <td>0</td>\n",
              "      <td>0</td>\n",
              "      <td>0</td>\n",
              "      <td>1</td>\n",
              "      <td>0</td>\n",
              "      <td>0</td>\n",
              "      <td>True</td>\n",
              "    </tr>\n",
              "    <tr>\n",
              "      <th>e6d239e26b1205f98c76219c3beba9a8</th>\n",
              "      <td>0</td>\n",
              "      <td>0</td>\n",
              "      <td>3</td>\n",
              "      <td>0</td>\n",
              "      <td>0</td>\n",
              "      <td>0</td>\n",
              "      <td>0</td>\n",
              "      <td>0</td>\n",
              "      <td>0</td>\n",
              "      <td>0</td>\n",
              "      <td>0</td>\n",
              "      <td>0</td>\n",
              "      <td>0</td>\n",
              "      <td>True</td>\n",
              "    </tr>\n",
              "    <tr>\n",
              "      <th>f03ba132c763930a09d29df3c23f8bea</th>\n",
              "      <td>0</td>\n",
              "      <td>0</td>\n",
              "      <td>1</td>\n",
              "      <td>0</td>\n",
              "      <td>0</td>\n",
              "      <td>0</td>\n",
              "      <td>0</td>\n",
              "      <td>0</td>\n",
              "      <td>0</td>\n",
              "      <td>0</td>\n",
              "      <td>0</td>\n",
              "      <td>0</td>\n",
              "      <td>0</td>\n",
              "      <td>True</td>\n",
              "    </tr>\n",
              "    <tr>\n",
              "      <th>f18c5b5b66f43b6b1294f66ab2c1e98d</th>\n",
              "      <td>0</td>\n",
              "      <td>0</td>\n",
              "      <td>0</td>\n",
              "      <td>0</td>\n",
              "      <td>1</td>\n",
              "      <td>0</td>\n",
              "      <td>0</td>\n",
              "      <td>0</td>\n",
              "      <td>0</td>\n",
              "      <td>0</td>\n",
              "      <td>0</td>\n",
              "      <td>0</td>\n",
              "      <td>0</td>\n",
              "      <td>True</td>\n",
              "    </tr>\n",
              "    <tr>\n",
              "      <th>fa8574e4b97ff04270a538ab8d41a287</th>\n",
              "      <td>0</td>\n",
              "      <td>0</td>\n",
              "      <td>0</td>\n",
              "      <td>0</td>\n",
              "      <td>0</td>\n",
              "      <td>0</td>\n",
              "      <td>0</td>\n",
              "      <td>0</td>\n",
              "      <td>0</td>\n",
              "      <td>0</td>\n",
              "      <td>1</td>\n",
              "      <td>0</td>\n",
              "      <td>0</td>\n",
              "      <td>True</td>\n",
              "    </tr>\n",
              "  </tbody>\n",
              "</table>\n",
              "<p>72 rows × 14 columns</p>\n",
              "</div>"
            ],
            "text/plain": [
              "user_state                        AL  AZ  CA  DC  FL  GA  IL  IN  NJ  NY  TX  \\\n",
              "userid                                                                         \n",
              "0871c09afb84920b8bfd27b3c328c86a   0   0   0   0   1   0   0   0   0   0   0   \n",
              "0bd397383b7b3070af45cb75d9e44c30   0   0   1   0   0   0   0   0   0   0   0   \n",
              "0fc0cec5a0e21c62feb9a7c5217c36d8   0   0   0   0   3   0   0   0   0   0   0   \n",
              "11b9f94b9c956fa7197e02323663a454   0   0   0   0   0   0   0   0   0   1   0   \n",
              "13d8a03074dd4502c5acb82fc65e2b33   0   0   1   0   0   0   0   0   0   0   0   \n",
              "...                               ..  ..  ..  ..  ..  ..  ..  ..  ..  ..  ..   \n",
              "dfdd0c050e79fc5ad02384f4e1b8411c   0   0   0   0   0   0   0   0   0   0   1   \n",
              "e6d239e26b1205f98c76219c3beba9a8   0   0   3   0   0   0   0   0   0   0   0   \n",
              "f03ba132c763930a09d29df3c23f8bea   0   0   1   0   0   0   0   0   0   0   0   \n",
              "f18c5b5b66f43b6b1294f66ab2c1e98d   0   0   0   0   1   0   0   0   0   0   0   \n",
              "fa8574e4b97ff04270a538ab8d41a287   0   0   0   0   0   0   0   0   0   0   1   \n",
              "\n",
              "user_state                        VA  WV  gone_user  \n",
              "userid                                               \n",
              "0871c09afb84920b8bfd27b3c328c86a   0   0       True  \n",
              "0bd397383b7b3070af45cb75d9e44c30   0   0       True  \n",
              "0fc0cec5a0e21c62feb9a7c5217c36d8   0   0       True  \n",
              "11b9f94b9c956fa7197e02323663a454   0   0       True  \n",
              "13d8a03074dd4502c5acb82fc65e2b33   0   0       True  \n",
              "...                               ..  ..        ...  \n",
              "dfdd0c050e79fc5ad02384f4e1b8411c   0   0       True  \n",
              "e6d239e26b1205f98c76219c3beba9a8   0   0       True  \n",
              "f03ba132c763930a09d29df3c23f8bea   0   0       True  \n",
              "f18c5b5b66f43b6b1294f66ab2c1e98d   0   0       True  \n",
              "fa8574e4b97ff04270a538ab8d41a287   0   0       True  \n",
              "\n",
              "[72 rows x 14 columns]"
            ]
          },
          "execution_count": 14,
          "metadata": {},
          "output_type": "execute_result"
        }
      ],
      "source": [
        "df_transaction_refund = df_subs[df_subs['event_name'] == 'Transaction Refund']\n",
        "df_refund_states = df_transaction_refund[['userid', 'user_state', 'gone_user']]\n",
        "df_refund_states_count = df_refund_states.groupby(['userid', 'user_state']).count().unstack(level=1,fill_value=0)['gone_user']\n",
        "df_refund_states_count['gone_user'] = df_refund_states_count.index.isin(gone_users)\n",
        "df_refund_states_count"
      ]
    },
    {
      "cell_type": "markdown",
      "metadata": {
        "id": "ya-gIx6qAxCh"
      },
      "source": [
        "Also, we need to know amount subscribers in each state, because we will evaluate mean value for states later. We have different amount of subscribers in states, so mean value will be more precise metric"
      ]
    },
    {
      "cell_type": "code",
      "execution_count": null,
      "metadata": {
        "id": "vwOQLgQxAxCh"
      },
      "outputs": [],
      "source": [
        "df_subs_in_state = df_subs[['userid', 'user_state', 'gone_user']].drop_duplicates('userid').groupby(['user_state']).count()['userid']"
      ]
    },
    {
      "cell_type": "markdown",
      "metadata": {
        "id": "48dRNToDAxCi"
      },
      "source": [
        "Here we are summing event counts for gone and not gone users"
      ]
    },
    {
      "cell_type": "code",
      "execution_count": null,
      "metadata": {
        "id": "Zkw-9Xe0AxCi",
        "outputId": "a19445f8-ef12-4ae4-85ca-5d5289ea0363"
      },
      "outputs": [
        {
          "data": {
            "text/html": [
              "<div>\n",
              "<style scoped>\n",
              "    .dataframe tbody tr th:only-of-type {\n",
              "        vertical-align: middle;\n",
              "    }\n",
              "\n",
              "    .dataframe tbody tr th {\n",
              "        vertical-align: top;\n",
              "    }\n",
              "\n",
              "    .dataframe thead th {\n",
              "        text-align: right;\n",
              "    }\n",
              "</style>\n",
              "<table border=\"1\" class=\"dataframe\">\n",
              "  <thead>\n",
              "    <tr style=\"text-align: right;\">\n",
              "      <th>gone_user</th>\n",
              "      <th>user_state</th>\n",
              "      <th>not_gone</th>\n",
              "      <th>gone</th>\n",
              "    </tr>\n",
              "  </thead>\n",
              "  <tbody>\n",
              "    <tr>\n",
              "      <th>2</th>\n",
              "      <td>CA</td>\n",
              "      <td>0</td>\n",
              "      <td>44</td>\n",
              "    </tr>\n",
              "    <tr>\n",
              "      <th>4</th>\n",
              "      <td>FL</td>\n",
              "      <td>0</td>\n",
              "      <td>15</td>\n",
              "    </tr>\n",
              "    <tr>\n",
              "      <th>6</th>\n",
              "      <td>IL</td>\n",
              "      <td>0</td>\n",
              "      <td>9</td>\n",
              "    </tr>\n",
              "    <tr>\n",
              "      <th>10</th>\n",
              "      <td>TX</td>\n",
              "      <td>0</td>\n",
              "      <td>9</td>\n",
              "    </tr>\n",
              "    <tr>\n",
              "      <th>11</th>\n",
              "      <td>VA</td>\n",
              "      <td>0</td>\n",
              "      <td>6</td>\n",
              "    </tr>\n",
              "    <tr>\n",
              "      <th>8</th>\n",
              "      <td>NJ</td>\n",
              "      <td>0</td>\n",
              "      <td>2</td>\n",
              "    </tr>\n",
              "    <tr>\n",
              "      <th>9</th>\n",
              "      <td>NY</td>\n",
              "      <td>3</td>\n",
              "      <td>2</td>\n",
              "    </tr>\n",
              "    <tr>\n",
              "      <th>0</th>\n",
              "      <td>AL</td>\n",
              "      <td>0</td>\n",
              "      <td>1</td>\n",
              "    </tr>\n",
              "    <tr>\n",
              "      <th>1</th>\n",
              "      <td>AZ</td>\n",
              "      <td>0</td>\n",
              "      <td>1</td>\n",
              "    </tr>\n",
              "    <tr>\n",
              "      <th>3</th>\n",
              "      <td>DC</td>\n",
              "      <td>0</td>\n",
              "      <td>1</td>\n",
              "    </tr>\n",
              "    <tr>\n",
              "      <th>5</th>\n",
              "      <td>GA</td>\n",
              "      <td>0</td>\n",
              "      <td>1</td>\n",
              "    </tr>\n",
              "    <tr>\n",
              "      <th>7</th>\n",
              "      <td>IN</td>\n",
              "      <td>0</td>\n",
              "      <td>1</td>\n",
              "    </tr>\n",
              "    <tr>\n",
              "      <th>12</th>\n",
              "      <td>WV</td>\n",
              "      <td>0</td>\n",
              "      <td>1</td>\n",
              "    </tr>\n",
              "  </tbody>\n",
              "</table>\n",
              "</div>"
            ],
            "text/plain": [
              "gone_user user_state  not_gone  gone\n",
              "2                 CA         0    44\n",
              "4                 FL         0    15\n",
              "6                 IL         0     9\n",
              "10                TX         0     9\n",
              "11                VA         0     6\n",
              "8                 NJ         0     2\n",
              "9                 NY         3     2\n",
              "0                 AL         0     1\n",
              "1                 AZ         0     1\n",
              "3                 DC         0     1\n",
              "5                 GA         0     1\n",
              "7                 IN         0     1\n",
              "12                WV         0     1"
            ]
          },
          "execution_count": 16,
          "metadata": {},
          "output_type": "execute_result"
        }
      ],
      "source": [
        "df_refund_states_count = df_refund_states_count.groupby(['gone_user']).sum().T.reset_index().rename(columns={False:'not_gone', True:'gone'}).sort_values('gone', ascending=False)\n",
        "df_refund_states_count"
      ]
    },
    {
      "cell_type": "markdown",
      "metadata": {
        "id": "cMeZ8vQJAxCi"
      },
      "source": [
        "Merging dataframes to evaluate mean value"
      ]
    },
    {
      "cell_type": "code",
      "execution_count": null,
      "metadata": {
        "id": "Z_PTVPDpAxCi"
      },
      "outputs": [],
      "source": [
        "df_refund_states_mean = pd.merge(df_refund_states_count, df_subs_in_state, on='user_state', how='inner').rename(columns={'userid':'subs_in_state'})"
      ]
    },
    {
      "cell_type": "markdown",
      "metadata": {
        "id": "eu6U6QkJAxCi"
      },
      "source": [
        "Getting mean values and ranking by their difference. Plotting means"
      ]
    },
    {
      "cell_type": "code",
      "execution_count": null,
      "metadata": {
        "id": "JCOjLOz4AxCi",
        "outputId": "4875057c-f149-4a7d-a9ac-047d82044e90"
      },
      "outputs": [
        {
          "data": {
            "text/html": [
              "<div>\n",
              "<style scoped>\n",
              "    .dataframe tbody tr th:only-of-type {\n",
              "        vertical-align: middle;\n",
              "    }\n",
              "\n",
              "    .dataframe tbody tr th {\n",
              "        vertical-align: top;\n",
              "    }\n",
              "\n",
              "    .dataframe thead th {\n",
              "        text-align: right;\n",
              "    }\n",
              "</style>\n",
              "<table border=\"1\" class=\"dataframe\">\n",
              "  <thead>\n",
              "    <tr style=\"text-align: right;\">\n",
              "      <th></th>\n",
              "      <th>user_state</th>\n",
              "      <th>not_gone</th>\n",
              "      <th>gone</th>\n",
              "      <th>subs_in_state</th>\n",
              "      <th>rank</th>\n",
              "    </tr>\n",
              "  </thead>\n",
              "  <tbody>\n",
              "    <tr>\n",
              "      <th>7</th>\n",
              "      <td>AL</td>\n",
              "      <td>0.000000</td>\n",
              "      <td>1.000000</td>\n",
              "      <td>1</td>\n",
              "      <td>1.000000</td>\n",
              "    </tr>\n",
              "    <tr>\n",
              "      <th>10</th>\n",
              "      <td>GA</td>\n",
              "      <td>0.000000</td>\n",
              "      <td>1.000000</td>\n",
              "      <td>1</td>\n",
              "      <td>1.000000</td>\n",
              "    </tr>\n",
              "    <tr>\n",
              "      <th>12</th>\n",
              "      <td>WV</td>\n",
              "      <td>0.000000</td>\n",
              "      <td>1.000000</td>\n",
              "      <td>1</td>\n",
              "      <td>1.000000</td>\n",
              "    </tr>\n",
              "    <tr>\n",
              "      <th>9</th>\n",
              "      <td>DC</td>\n",
              "      <td>0.000000</td>\n",
              "      <td>0.333333</td>\n",
              "      <td>3</td>\n",
              "      <td>0.333333</td>\n",
              "    </tr>\n",
              "    <tr>\n",
              "      <th>1</th>\n",
              "      <td>FL</td>\n",
              "      <td>0.000000</td>\n",
              "      <td>0.238095</td>\n",
              "      <td>63</td>\n",
              "      <td>0.238095</td>\n",
              "    </tr>\n",
              "    <tr>\n",
              "      <th>4</th>\n",
              "      <td>VA</td>\n",
              "      <td>0.000000</td>\n",
              "      <td>0.230769</td>\n",
              "      <td>26</td>\n",
              "      <td>0.230769</td>\n",
              "    </tr>\n",
              "    <tr>\n",
              "      <th>2</th>\n",
              "      <td>IL</td>\n",
              "      <td>0.000000</td>\n",
              "      <td>0.219512</td>\n",
              "      <td>41</td>\n",
              "      <td>0.219512</td>\n",
              "    </tr>\n",
              "    <tr>\n",
              "      <th>8</th>\n",
              "      <td>AZ</td>\n",
              "      <td>0.000000</td>\n",
              "      <td>0.200000</td>\n",
              "      <td>5</td>\n",
              "      <td>0.200000</td>\n",
              "    </tr>\n",
              "    <tr>\n",
              "      <th>11</th>\n",
              "      <td>IN</td>\n",
              "      <td>0.000000</td>\n",
              "      <td>0.166667</td>\n",
              "      <td>6</td>\n",
              "      <td>0.166667</td>\n",
              "    </tr>\n",
              "    <tr>\n",
              "      <th>0</th>\n",
              "      <td>CA</td>\n",
              "      <td>0.000000</td>\n",
              "      <td>0.128655</td>\n",
              "      <td>342</td>\n",
              "      <td>0.128655</td>\n",
              "    </tr>\n",
              "    <tr>\n",
              "      <th>5</th>\n",
              "      <td>NJ</td>\n",
              "      <td>0.000000</td>\n",
              "      <td>0.117647</td>\n",
              "      <td>17</td>\n",
              "      <td>0.117647</td>\n",
              "    </tr>\n",
              "    <tr>\n",
              "      <th>3</th>\n",
              "      <td>TX</td>\n",
              "      <td>0.000000</td>\n",
              "      <td>0.046875</td>\n",
              "      <td>192</td>\n",
              "      <td>0.046875</td>\n",
              "    </tr>\n",
              "    <tr>\n",
              "      <th>6</th>\n",
              "      <td>NY</td>\n",
              "      <td>0.088235</td>\n",
              "      <td>0.058824</td>\n",
              "      <td>34</td>\n",
              "      <td>-0.029412</td>\n",
              "    </tr>\n",
              "  </tbody>\n",
              "</table>\n",
              "</div>"
            ],
            "text/plain": [
              "   user_state  not_gone      gone  subs_in_state      rank\n",
              "7          AL  0.000000  1.000000              1  1.000000\n",
              "10         GA  0.000000  1.000000              1  1.000000\n",
              "12         WV  0.000000  1.000000              1  1.000000\n",
              "9          DC  0.000000  0.333333              3  0.333333\n",
              "1          FL  0.000000  0.238095             63  0.238095\n",
              "4          VA  0.000000  0.230769             26  0.230769\n",
              "2          IL  0.000000  0.219512             41  0.219512\n",
              "8          AZ  0.000000  0.200000              5  0.200000\n",
              "11         IN  0.000000  0.166667              6  0.166667\n",
              "0          CA  0.000000  0.128655            342  0.128655\n",
              "5          NJ  0.000000  0.117647             17  0.117647\n",
              "3          TX  0.000000  0.046875            192  0.046875\n",
              "6          NY  0.088235  0.058824             34 -0.029412"
            ]
          },
          "execution_count": 18,
          "metadata": {},
          "output_type": "execute_result"
        },
        {
          "data": {
            "image/png": "[encoded data removed]",
            "text/plain": [
              "<Figure size 1500x500 with 1 Axes>"
            ]
          },
          "metadata": {},
          "output_type": "display_data"
        }
      ],
      "source": [
        "df_refund_states_mean['not_gone'] = df_refund_states_mean['not_gone']/df_refund_states_mean['subs_in_state']\n",
        "df_refund_states_mean['gone'] = df_refund_states_mean['gone']/df_refund_states_mean['subs_in_state']\n",
        "#df_refund_states_mean['rank'] = np.abs(df_refund_states_mean.gone - df_refund_states_mean.not_gone)\n",
        "df_refund_states_mean['rank'] = df_refund_states_mean.gone - df_refund_states_mean.not_gone\n",
        "df_refund_states_mean.sort_values('rank', ascending=False, inplace=True)\n",
        "df_refund_states_mean.plot(kind='bar',y=['not_gone', 'gone'], x='user_state', rot=90, figsize=(15,5))\n",
        "df_refund_states_mean"
      ]
    },
    {
      "cell_type": "markdown",
      "metadata": {
        "id": "7MfkUl5iAxCj"
      },
      "source": [
        "problems only in the states: AL, GA, WV, DC, FL, VA, IL, AZ, IN, CA, NJ, TX"
      ]
    },
    {
      "cell_type": "markdown",
      "metadata": {
        "id": "eBu9ibjYAxCj"
      },
      "source": [
        "Writing function to prioritize states correlation for events.\n",
        "\n",
        "We are doing the same things as for Transaction Refund"
      ]
    },
    {
      "cell_type": "code",
      "execution_count": null,
      "metadata": {
        "id": "VObIZkO_AxCj"
      },
      "outputs": [],
      "source": [
        "def prioritize_states(df_subs, event_name):\n",
        "    df_event_name = df_subs[df_subs['event_name'] == event_name]\n",
        "    df_event_name_states = df_event_name[['userid', 'user_state', 'gone_user']]\n",
        "    df_event_name_states_count = df_event_name_states.groupby(['userid', 'user_state']).count().unstack(level=1,fill_value=0)['gone_user']\n",
        "    df_event_name_states_count['gone_user'] = df_event_name_states_count.index.isin(gone_users)\n",
        "    df_event_name_states_count = df_event_name_states_count.groupby(['gone_user']).sum().T.reset_index().rename(columns={False:'not_gone', True:'gone'}).sort_values('gone', ascending=False)\n",
        "    \n",
        "    df_subs_in_state = df_subs[['userid', 'user_state', 'gone_user']].drop_duplicates('userid').groupby(['user_state']).count()['userid']\n",
        "\n",
        "    df_event_name_states_mean = pd.merge(df_event_name_states_count, df_subs_in_state, on='user_state', how='inner').rename(columns={'userid':'subs_in_state'})\n",
        "\n",
        "    df_event_name_states_mean['not_gone'] = df_event_name_states_mean['not_gone']/df_event_name_states_mean['subs_in_state']\n",
        "    df_event_name_states_mean['gone'] = df_event_name_states_mean['gone']/df_event_name_states_mean['subs_in_state']\n",
        "\n",
        "    #df_event_name_states_mean['rank'] = np.abs(df_event_name_states_mean.gone - df_event_name_states_mean.not_gone) \n",
        "    df_event_name_states_mean['rank'] = df_event_name_states_mean.gone - df_event_name_states_mean.not_gone\n",
        "    df_event_name_states_mean.sort_values('rank', ascending=False, inplace=True)\n",
        "    df_event_name_states_mean.plot(kind='bar',y=['not_gone', 'gone'], x='user_state', rot=90, figsize=(15,5))\n",
        "\n",
        "    return df_event_name_states_mean[['user_state','rank']]\n",
        "    "
      ]
    },
    {
      "cell_type": "markdown",
      "metadata": {
        "id": "qW1w5LEkAxCj"
      },
      "source": [
        "## Getting states ranking for Chat Conversation Started"
      ]
    },
    {
      "cell_type": "code",
      "execution_count": null,
      "metadata": {
        "id": "cki7H3snAxCj",
        "outputId": "fb34800e-6340-4913-abb1-4738e086b646"
      },
      "outputs": [
        {
          "data": {
            "text/html": [
              "<div>\n",
              "<style scoped>\n",
              "    .dataframe tbody tr th:only-of-type {\n",
              "        vertical-align: middle;\n",
              "    }\n",
              "\n",
              "    .dataframe tbody tr th {\n",
              "        vertical-align: top;\n",
              "    }\n",
              "\n",
              "    .dataframe thead th {\n",
              "        text-align: right;\n",
              "    }\n",
              "</style>\n",
              "<table border=\"1\" class=\"dataframe\">\n",
              "  <thead>\n",
              "    <tr style=\"text-align: right;\">\n",
              "      <th></th>\n",
              "      <th>user_state</th>\n",
              "      <th>rank</th>\n",
              "    </tr>\n",
              "  </thead>\n",
              "  <tbody>\n",
              "    <tr>\n",
              "      <th>6</th>\n",
              "      <td>AR</td>\n",
              "      <td>6.000000</td>\n",
              "    </tr>\n",
              "    <tr>\n",
              "      <th>2</th>\n",
              "      <td>IL</td>\n",
              "      <td>1.878049</td>\n",
              "    </tr>\n",
              "    <tr>\n",
              "      <th>3</th>\n",
              "      <td>FL</td>\n",
              "      <td>1.047619</td>\n",
              "    </tr>\n",
              "    <tr>\n",
              "      <th>13</th>\n",
              "      <td>UT</td>\n",
              "      <td>1.000000</td>\n",
              "    </tr>\n",
              "    <tr>\n",
              "      <th>11</th>\n",
              "      <td>KY</td>\n",
              "      <td>1.000000</td>\n",
              "    </tr>\n",
              "    <tr>\n",
              "      <th>22</th>\n",
              "      <td>WV</td>\n",
              "      <td>1.000000</td>\n",
              "    </tr>\n",
              "    <tr>\n",
              "      <th>16</th>\n",
              "      <td>AL</td>\n",
              "      <td>1.000000</td>\n",
              "    </tr>\n",
              "    <tr>\n",
              "      <th>14</th>\n",
              "      <td>TN</td>\n",
              "      <td>1.000000</td>\n",
              "    </tr>\n",
              "    <tr>\n",
              "      <th>0</th>\n",
              "      <td>CA</td>\n",
              "      <td>0.701754</td>\n",
              "    </tr>\n",
              "    <tr>\n",
              "      <th>10</th>\n",
              "      <td>IN</td>\n",
              "      <td>0.666667</td>\n",
              "    </tr>\n",
              "    <tr>\n",
              "      <th>9</th>\n",
              "      <td>MD</td>\n",
              "      <td>0.500000</td>\n",
              "    </tr>\n",
              "    <tr>\n",
              "      <th>20</th>\n",
              "      <td>CO</td>\n",
              "      <td>0.500000</td>\n",
              "    </tr>\n",
              "    <tr>\n",
              "      <th>18</th>\n",
              "      <td>IA</td>\n",
              "      <td>0.500000</td>\n",
              "    </tr>\n",
              "    <tr>\n",
              "      <th>19</th>\n",
              "      <td>DC</td>\n",
              "      <td>0.333333</td>\n",
              "    </tr>\n",
              "    <tr>\n",
              "      <th>17</th>\n",
              "      <td>NC</td>\n",
              "      <td>0.333333</td>\n",
              "    </tr>\n",
              "    <tr>\n",
              "      <th>7</th>\n",
              "      <td>PA</td>\n",
              "      <td>0.285714</td>\n",
              "    </tr>\n",
              "    <tr>\n",
              "      <th>1</th>\n",
              "      <td>TX</td>\n",
              "      <td>0.276042</td>\n",
              "    </tr>\n",
              "    <tr>\n",
              "      <th>8</th>\n",
              "      <td>NJ</td>\n",
              "      <td>0.235294</td>\n",
              "    </tr>\n",
              "    <tr>\n",
              "      <th>15</th>\n",
              "      <td>OK</td>\n",
              "      <td>0.166667</td>\n",
              "    </tr>\n",
              "    <tr>\n",
              "      <th>5</th>\n",
              "      <td>VA</td>\n",
              "      <td>0.115385</td>\n",
              "    </tr>\n",
              "    <tr>\n",
              "      <th>4</th>\n",
              "      <td>NY</td>\n",
              "      <td>0.029412</td>\n",
              "    </tr>\n",
              "    <tr>\n",
              "      <th>25</th>\n",
              "      <td>CT</td>\n",
              "      <td>-0.250000</td>\n",
              "    </tr>\n",
              "    <tr>\n",
              "      <th>23</th>\n",
              "      <td>NM</td>\n",
              "      <td>-0.500000</td>\n",
              "    </tr>\n",
              "    <tr>\n",
              "      <th>12</th>\n",
              "      <td>MA</td>\n",
              "      <td>-1.000000</td>\n",
              "    </tr>\n",
              "    <tr>\n",
              "      <th>24</th>\n",
              "      <td>MT</td>\n",
              "      <td>-1.000000</td>\n",
              "    </tr>\n",
              "    <tr>\n",
              "      <th>21</th>\n",
              "      <td>AZ</td>\n",
              "      <td>-2.200000</td>\n",
              "    </tr>\n",
              "  </tbody>\n",
              "</table>\n",
              "</div>"
            ],
            "text/plain": [
              "   user_state      rank\n",
              "6          AR  6.000000\n",
              "2          IL  1.878049\n",
              "3          FL  1.047619\n",
              "13         UT  1.000000\n",
              "11         KY  1.000000\n",
              "22         WV  1.000000\n",
              "16         AL  1.000000\n",
              "14         TN  1.000000\n",
              "0          CA  0.701754\n",
              "10         IN  0.666667\n",
              "9          MD  0.500000\n",
              "20         CO  0.500000\n",
              "18         IA  0.500000\n",
              "19         DC  0.333333\n",
              "17         NC  0.333333\n",
              "7          PA  0.285714\n",
              "1          TX  0.276042\n",
              "8          NJ  0.235294\n",
              "15         OK  0.166667\n",
              "5          VA  0.115385\n",
              "4          NY  0.029412\n",
              "25         CT -0.250000\n",
              "23         NM -0.500000\n",
              "12         MA -1.000000\n",
              "24         MT -1.000000\n",
              "21         AZ -2.200000"
            ]
          },
          "execution_count": 20,
          "metadata": {},
          "output_type": "execute_result"
        },
        {
          "data": {
            "image/png": "[encoded data removed]",
            "text/plain": [
              "<Figure size 1500x500 with 1 Axes>"
            ]
          },
          "metadata": {},
          "output_type": "display_data"
        }
      ],
      "source": [
        "prioritize_states(df_subs, 'Chat Conversation Started')"
      ]
    },
    {
      "cell_type": "markdown",
      "metadata": {
        "id": "0e6PmdQ0AxCk"
      },
      "source": [
        "problems only in the states: AR, IL, FL, UT, KY, WV, AL, TN, CA, IN, MD, CO, IA"
      ]
    },
    {
      "cell_type": "markdown",
      "metadata": {
        "id": "n8JgdzoIAxCk"
      },
      "source": [
        "## Getting states ranking for Chat Conversation Opened"
      ]
    },
    {
      "cell_type": "code",
      "execution_count": null,
      "metadata": {
        "id": "tTJSW4BQAxCk",
        "outputId": "7b0fd495-7498-4c37-ebb2-eb97529e45a4"
      },
      "outputs": [
        {
          "data": {
            "text/html": [
              "<div>\n",
              "<style scoped>\n",
              "    .dataframe tbody tr th:only-of-type {\n",
              "        vertical-align: middle;\n",
              "    }\n",
              "\n",
              "    .dataframe tbody tr th {\n",
              "        vertical-align: top;\n",
              "    }\n",
              "\n",
              "    .dataframe thead th {\n",
              "        text-align: right;\n",
              "    }\n",
              "</style>\n",
              "<table border=\"1\" class=\"dataframe\">\n",
              "  <thead>\n",
              "    <tr style=\"text-align: right;\">\n",
              "      <th></th>\n",
              "      <th>user_state</th>\n",
              "      <th>rank</th>\n",
              "    </tr>\n",
              "  </thead>\n",
              "  <tbody>\n",
              "    <tr>\n",
              "      <th>10</th>\n",
              "      <td>WV</td>\n",
              "      <td>5.000000</td>\n",
              "    </tr>\n",
              "    <tr>\n",
              "      <th>13</th>\n",
              "      <td>AL</td>\n",
              "      <td>4.000000</td>\n",
              "    </tr>\n",
              "    <tr>\n",
              "      <th>6</th>\n",
              "      <td>IN</td>\n",
              "      <td>3.333333</td>\n",
              "    </tr>\n",
              "    <tr>\n",
              "      <th>17</th>\n",
              "      <td>UT</td>\n",
              "      <td>2.000000</td>\n",
              "    </tr>\n",
              "    <tr>\n",
              "      <th>16</th>\n",
              "      <td>TN</td>\n",
              "      <td>2.000000</td>\n",
              "    </tr>\n",
              "    <tr>\n",
              "      <th>15</th>\n",
              "      <td>CO</td>\n",
              "      <td>2.000000</td>\n",
              "    </tr>\n",
              "    <tr>\n",
              "      <th>14</th>\n",
              "      <td>AR</td>\n",
              "      <td>2.000000</td>\n",
              "    </tr>\n",
              "    <tr>\n",
              "      <th>3</th>\n",
              "      <td>IL</td>\n",
              "      <td>1.536585</td>\n",
              "    </tr>\n",
              "    <tr>\n",
              "      <th>4</th>\n",
              "      <td>NJ</td>\n",
              "      <td>1.470588</td>\n",
              "    </tr>\n",
              "    <tr>\n",
              "      <th>2</th>\n",
              "      <td>FL</td>\n",
              "      <td>0.857143</td>\n",
              "    </tr>\n",
              "    <tr>\n",
              "      <th>9</th>\n",
              "      <td>OK</td>\n",
              "      <td>0.833333</td>\n",
              "    </tr>\n",
              "    <tr>\n",
              "      <th>5</th>\n",
              "      <td>VA</td>\n",
              "      <td>0.576923</td>\n",
              "    </tr>\n",
              "    <tr>\n",
              "      <th>19</th>\n",
              "      <td>IA</td>\n",
              "      <td>0.500000</td>\n",
              "    </tr>\n",
              "    <tr>\n",
              "      <th>0</th>\n",
              "      <td>CA</td>\n",
              "      <td>0.368421</td>\n",
              "    </tr>\n",
              "    <tr>\n",
              "      <th>18</th>\n",
              "      <td>NC</td>\n",
              "      <td>0.333333</td>\n",
              "    </tr>\n",
              "    <tr>\n",
              "      <th>11</th>\n",
              "      <td>MD</td>\n",
              "      <td>0.300000</td>\n",
              "    </tr>\n",
              "    <tr>\n",
              "      <th>1</th>\n",
              "      <td>TX</td>\n",
              "      <td>0.088542</td>\n",
              "    </tr>\n",
              "    <tr>\n",
              "      <th>8</th>\n",
              "      <td>MA</td>\n",
              "      <td>-0.250000</td>\n",
              "    </tr>\n",
              "    <tr>\n",
              "      <th>22</th>\n",
              "      <td>CT</td>\n",
              "      <td>-0.250000</td>\n",
              "    </tr>\n",
              "    <tr>\n",
              "      <th>12</th>\n",
              "      <td>PA</td>\n",
              "      <td>-0.285714</td>\n",
              "    </tr>\n",
              "    <tr>\n",
              "      <th>21</th>\n",
              "      <td>OH</td>\n",
              "      <td>-0.333333</td>\n",
              "    </tr>\n",
              "    <tr>\n",
              "      <th>7</th>\n",
              "      <td>NY</td>\n",
              "      <td>-0.382353</td>\n",
              "    </tr>\n",
              "    <tr>\n",
              "      <th>20</th>\n",
              "      <td>NM</td>\n",
              "      <td>-0.500000</td>\n",
              "    </tr>\n",
              "    <tr>\n",
              "      <th>23</th>\n",
              "      <td>AZ</td>\n",
              "      <td>-1.000000</td>\n",
              "    </tr>\n",
              "    <tr>\n",
              "      <th>24</th>\n",
              "      <td>MT</td>\n",
              "      <td>-1.000000</td>\n",
              "    </tr>\n",
              "  </tbody>\n",
              "</table>\n",
              "</div>"
            ],
            "text/plain": [
              "   user_state      rank\n",
              "10         WV  5.000000\n",
              "13         AL  4.000000\n",
              "6          IN  3.333333\n",
              "17         UT  2.000000\n",
              "16         TN  2.000000\n",
              "15         CO  2.000000\n",
              "14         AR  2.000000\n",
              "3          IL  1.536585\n",
              "4          NJ  1.470588\n",
              "2          FL  0.857143\n",
              "9          OK  0.833333\n",
              "5          VA  0.576923\n",
              "19         IA  0.500000\n",
              "0          CA  0.368421\n",
              "18         NC  0.333333\n",
              "11         MD  0.300000\n",
              "1          TX  0.088542\n",
              "8          MA -0.250000\n",
              "22         CT -0.250000\n",
              "12         PA -0.285714\n",
              "21         OH -0.333333\n",
              "7          NY -0.382353\n",
              "20         NM -0.500000\n",
              "23         AZ -1.000000\n",
              "24         MT -1.000000"
            ]
          },
          "execution_count": 21,
          "metadata": {},
          "output_type": "execute_result"
        },
        {
          "data": {
            "image/png": "[encoded data removed]",
            "text/plain": [
              "<Figure size 1500x500 with 1 Axes>"
            ]
          },
          "metadata": {},
          "output_type": "display_data"
        }
      ],
      "source": [
        "prioritize_states(df_subs, 'Chat Conversation Opened')"
      ]
    },
    {
      "cell_type": "markdown",
      "metadata": {
        "id": "ANk05lwOAxCk"
      },
      "source": [
        "problems only in the states: WV, AL, IN, UT, TN, CO, AR, IL, NJ, FL, OK, VA, IA"
      ]
    },
    {
      "cell_type": "markdown",
      "metadata": {
        "id": "a3cY4qKCAxCk"
      },
      "source": [
        "## Getting states ranking for Order"
      ]
    },
    {
      "cell_type": "code",
      "execution_count": null,
      "metadata": {
        "id": "eo451hsaAxCk",
        "outputId": "edc18526-3d5c-4d4e-ad00-fd157b3b5f9b"
      },
      "outputs": [
        {
          "data": {
            "text/html": [
              "<div>\n",
              "<style scoped>\n",
              "    .dataframe tbody tr th:only-of-type {\n",
              "        vertical-align: middle;\n",
              "    }\n",
              "\n",
              "    .dataframe tbody tr th {\n",
              "        vertical-align: top;\n",
              "    }\n",
              "\n",
              "    .dataframe thead th {\n",
              "        text-align: right;\n",
              "    }\n",
              "</style>\n",
              "<table border=\"1\" class=\"dataframe\">\n",
              "  <thead>\n",
              "    <tr style=\"text-align: right;\">\n",
              "      <th></th>\n",
              "      <th>user_state</th>\n",
              "      <th>rank</th>\n",
              "    </tr>\n",
              "  </thead>\n",
              "  <tbody>\n",
              "    <tr>\n",
              "      <th>8</th>\n",
              "      <td>TN</td>\n",
              "      <td>6.000000</td>\n",
              "    </tr>\n",
              "    <tr>\n",
              "      <th>5</th>\n",
              "      <td>MA</td>\n",
              "      <td>1.875000</td>\n",
              "    </tr>\n",
              "    <tr>\n",
              "      <th>12</th>\n",
              "      <td>AR</td>\n",
              "      <td>1.500000</td>\n",
              "    </tr>\n",
              "    <tr>\n",
              "      <th>2</th>\n",
              "      <td>IL</td>\n",
              "      <td>1.195122</td>\n",
              "    </tr>\n",
              "    <tr>\n",
              "      <th>11</th>\n",
              "      <td>OK</td>\n",
              "      <td>0.666667</td>\n",
              "    </tr>\n",
              "    <tr>\n",
              "      <th>13</th>\n",
              "      <td>IN</td>\n",
              "      <td>0.000000</td>\n",
              "    </tr>\n",
              "    <tr>\n",
              "      <th>21</th>\n",
              "      <td>PA</td>\n",
              "      <td>-0.285714</td>\n",
              "    </tr>\n",
              "    <tr>\n",
              "      <th>20</th>\n",
              "      <td>OH</td>\n",
              "      <td>-0.333333</td>\n",
              "    </tr>\n",
              "    <tr>\n",
              "      <th>17</th>\n",
              "      <td>NM</td>\n",
              "      <td>-0.500000</td>\n",
              "    </tr>\n",
              "    <tr>\n",
              "      <th>7</th>\n",
              "      <td>VA</td>\n",
              "      <td>-0.500000</td>\n",
              "    </tr>\n",
              "    <tr>\n",
              "      <th>10</th>\n",
              "      <td>NC</td>\n",
              "      <td>-1.000000</td>\n",
              "    </tr>\n",
              "    <tr>\n",
              "      <th>26</th>\n",
              "      <td>WI</td>\n",
              "      <td>-1.666667</td>\n",
              "    </tr>\n",
              "    <tr>\n",
              "      <th>1</th>\n",
              "      <td>CA</td>\n",
              "      <td>-1.888889</td>\n",
              "    </tr>\n",
              "    <tr>\n",
              "      <th>24</th>\n",
              "      <td>CT</td>\n",
              "      <td>-2.000000</td>\n",
              "    </tr>\n",
              "    <tr>\n",
              "      <th>3</th>\n",
              "      <td>NY</td>\n",
              "      <td>-2.117647</td>\n",
              "    </tr>\n",
              "    <tr>\n",
              "      <th>22</th>\n",
              "      <td>IA</td>\n",
              "      <td>-3.000000</td>\n",
              "    </tr>\n",
              "    <tr>\n",
              "      <th>25</th>\n",
              "      <td>VT</td>\n",
              "      <td>-3.000000</td>\n",
              "    </tr>\n",
              "    <tr>\n",
              "      <th>19</th>\n",
              "      <td>KS</td>\n",
              "      <td>-4.000000</td>\n",
              "    </tr>\n",
              "    <tr>\n",
              "      <th>9</th>\n",
              "      <td>MD</td>\n",
              "      <td>-5.100000</td>\n",
              "    </tr>\n",
              "    <tr>\n",
              "      <th>15</th>\n",
              "      <td>NH</td>\n",
              "      <td>-6.000000</td>\n",
              "    </tr>\n",
              "    <tr>\n",
              "      <th>16</th>\n",
              "      <td>MI</td>\n",
              "      <td>-9.000000</td>\n",
              "    </tr>\n",
              "    <tr>\n",
              "      <th>4</th>\n",
              "      <td>FL</td>\n",
              "      <td>-10.396825</td>\n",
              "    </tr>\n",
              "    <tr>\n",
              "      <th>0</th>\n",
              "      <td>TX</td>\n",
              "      <td>-10.567708</td>\n",
              "    </tr>\n",
              "    <tr>\n",
              "      <th>14</th>\n",
              "      <td>AZ</td>\n",
              "      <td>-19.600000</td>\n",
              "    </tr>\n",
              "    <tr>\n",
              "      <th>18</th>\n",
              "      <td>NV</td>\n",
              "      <td>-23.000000</td>\n",
              "    </tr>\n",
              "    <tr>\n",
              "      <th>23</th>\n",
              "      <td>DE</td>\n",
              "      <td>-23.500000</td>\n",
              "    </tr>\n",
              "    <tr>\n",
              "      <th>6</th>\n",
              "      <td>NJ</td>\n",
              "      <td>-31.117647</td>\n",
              "    </tr>\n",
              "  </tbody>\n",
              "</table>\n",
              "</div>"
            ],
            "text/plain": [
              "   user_state       rank\n",
              "8          TN   6.000000\n",
              "5          MA   1.875000\n",
              "12         AR   1.500000\n",
              "2          IL   1.195122\n",
              "11         OK   0.666667\n",
              "13         IN   0.000000\n",
              "21         PA  -0.285714\n",
              "20         OH  -0.333333\n",
              "17         NM  -0.500000\n",
              "7          VA  -0.500000\n",
              "10         NC  -1.000000\n",
              "26         WI  -1.666667\n",
              "1          CA  -1.888889\n",
              "24         CT  -2.000000\n",
              "3          NY  -2.117647\n",
              "22         IA  -3.000000\n",
              "25         VT  -3.000000\n",
              "19         KS  -4.000000\n",
              "9          MD  -5.100000\n",
              "15         NH  -6.000000\n",
              "16         MI  -9.000000\n",
              "4          FL -10.396825\n",
              "0          TX -10.567708\n",
              "14         AZ -19.600000\n",
              "18         NV -23.000000\n",
              "23         DE -23.500000\n",
              "6          NJ -31.117647"
            ]
          },
          "execution_count": 22,
          "metadata": {},
          "output_type": "execute_result"
        },
        {
          "data": {
            "image/png": "[encoded data removed]",
            "text/plain": [
              "<Figure size 1500x500 with 1 Axes>"
            ]
          },
          "metadata": {},
          "output_type": "display_data"
        }
      ],
      "source": [
        "prioritize_states(df_subs, 'Order')"
      ]
    },
    {
      "cell_type": "markdown",
      "metadata": {
        "id": "aR7rmss8AxCl"
      },
      "source": [
        "problems only in the states: TN, MA, AR, IL"
      ]
    },
    {
      "cell_type": "markdown",
      "metadata": {
        "id": "0TaRRIXiAxCl"
      },
      "source": [
        "## Getting states ranking for Sign Out"
      ]
    },
    {
      "cell_type": "code",
      "execution_count": null,
      "metadata": {
        "id": "jKOhZmkDAxCl",
        "outputId": "7ecc1a43-ec69-49fd-cbc3-8a2022856d87"
      },
      "outputs": [
        {
          "data": {
            "text/html": [
              "<div>\n",
              "<style scoped>\n",
              "    .dataframe tbody tr th:only-of-type {\n",
              "        vertical-align: middle;\n",
              "    }\n",
              "\n",
              "    .dataframe tbody tr th {\n",
              "        vertical-align: top;\n",
              "    }\n",
              "\n",
              "    .dataframe thead th {\n",
              "        text-align: right;\n",
              "    }\n",
              "</style>\n",
              "<table border=\"1\" class=\"dataframe\">\n",
              "  <thead>\n",
              "    <tr style=\"text-align: right;\">\n",
              "      <th></th>\n",
              "      <th>user_state</th>\n",
              "      <th>rank</th>\n",
              "    </tr>\n",
              "  </thead>\n",
              "  <tbody>\n",
              "    <tr>\n",
              "      <th>7</th>\n",
              "      <td>UT</td>\n",
              "      <td>1.000000</td>\n",
              "    </tr>\n",
              "    <tr>\n",
              "      <th>8</th>\n",
              "      <td>AR</td>\n",
              "      <td>0.500000</td>\n",
              "    </tr>\n",
              "    <tr>\n",
              "      <th>0</th>\n",
              "      <td>CA</td>\n",
              "      <td>0.482456</td>\n",
              "    </tr>\n",
              "    <tr>\n",
              "      <th>5</th>\n",
              "      <td>MA</td>\n",
              "      <td>0.250000</td>\n",
              "    </tr>\n",
              "    <tr>\n",
              "      <th>4</th>\n",
              "      <td>VA</td>\n",
              "      <td>0.115385</td>\n",
              "    </tr>\n",
              "    <tr>\n",
              "      <th>2</th>\n",
              "      <td>FL</td>\n",
              "      <td>0.031746</td>\n",
              "    </tr>\n",
              "    <tr>\n",
              "      <th>3</th>\n",
              "      <td>IL</td>\n",
              "      <td>0.024390</td>\n",
              "    </tr>\n",
              "    <tr>\n",
              "      <th>9</th>\n",
              "      <td>AZ</td>\n",
              "      <td>0.000000</td>\n",
              "    </tr>\n",
              "    <tr>\n",
              "      <th>10</th>\n",
              "      <td>IN</td>\n",
              "      <td>0.000000</td>\n",
              "    </tr>\n",
              "    <tr>\n",
              "      <th>1</th>\n",
              "      <td>TX</td>\n",
              "      <td>-0.026042</td>\n",
              "    </tr>\n",
              "    <tr>\n",
              "      <th>6</th>\n",
              "      <td>PA</td>\n",
              "      <td>-0.142857</td>\n",
              "    </tr>\n",
              "    <tr>\n",
              "      <th>12</th>\n",
              "      <td>NY</td>\n",
              "      <td>-0.235294</td>\n",
              "    </tr>\n",
              "    <tr>\n",
              "      <th>14</th>\n",
              "      <td>DC</td>\n",
              "      <td>-0.333333</td>\n",
              "    </tr>\n",
              "    <tr>\n",
              "      <th>16</th>\n",
              "      <td>WI</td>\n",
              "      <td>-0.333333</td>\n",
              "    </tr>\n",
              "    <tr>\n",
              "      <th>11</th>\n",
              "      <td>NM</td>\n",
              "      <td>-0.500000</td>\n",
              "    </tr>\n",
              "    <tr>\n",
              "      <th>13</th>\n",
              "      <td>OK</td>\n",
              "      <td>-1.166667</td>\n",
              "    </tr>\n",
              "    <tr>\n",
              "      <th>15</th>\n",
              "      <td>CT</td>\n",
              "      <td>-1.250000</td>\n",
              "    </tr>\n",
              "  </tbody>\n",
              "</table>\n",
              "</div>"
            ],
            "text/plain": [
              "   user_state      rank\n",
              "7          UT  1.000000\n",
              "8          AR  0.500000\n",
              "0          CA  0.482456\n",
              "5          MA  0.250000\n",
              "4          VA  0.115385\n",
              "2          FL  0.031746\n",
              "3          IL  0.024390\n",
              "9          AZ  0.000000\n",
              "10         IN  0.000000\n",
              "1          TX -0.026042\n",
              "6          PA -0.142857\n",
              "12         NY -0.235294\n",
              "14         DC -0.333333\n",
              "16         WI -0.333333\n",
              "11         NM -0.500000\n",
              "13         OK -1.166667\n",
              "15         CT -1.250000"
            ]
          },
          "execution_count": 23,
          "metadata": {},
          "output_type": "execute_result"
        },
        {
          "data": {
            "image/png": "[encoded data removed]",
            "text/plain": [
              "<Figure size 1500x500 with 1 Axes>"
            ]
          },
          "metadata": {},
          "output_type": "display_data"
        }
      ],
      "source": [
        "prioritize_states(df_subs, 'Sign Out')"
      ]
    },
    {
      "cell_type": "markdown",
      "metadata": {
        "id": "gcqJkjN6AxCl"
      },
      "source": [
        "problems only in the states: UT, AR, CA, MA, VA"
      ]
    },
    {
      "cell_type": "markdown",
      "source": [
        "In CT, OK, NM, WI, DC, NY users never leave"
      ],
      "metadata": {
        "id": "qLv4NmYYjJcy"
      }
    },
    {
      "cell_type": "markdown",
      "metadata": {
        "id": "Q1lIKYWCAxCl"
      },
      "source": [
        "## Getting states ranking for Wallet Opened"
      ]
    },
    {
      "cell_type": "code",
      "execution_count": null,
      "metadata": {
        "id": "jLtN5tBsAxCl",
        "outputId": "514b7904-4658-4830-d0bc-c7fc6f495c25"
      },
      "outputs": [
        {
          "data": {
            "text/html": [
              "<div>\n",
              "<style scoped>\n",
              "    .dataframe tbody tr th:only-of-type {\n",
              "        vertical-align: middle;\n",
              "    }\n",
              "\n",
              "    .dataframe tbody tr th {\n",
              "        vertical-align: top;\n",
              "    }\n",
              "\n",
              "    .dataframe thead th {\n",
              "        text-align: right;\n",
              "    }\n",
              "</style>\n",
              "<table border=\"1\" class=\"dataframe\">\n",
              "  <thead>\n",
              "    <tr style=\"text-align: right;\">\n",
              "      <th></th>\n",
              "      <th>user_state</th>\n",
              "      <th>rank</th>\n",
              "    </tr>\n",
              "  </thead>\n",
              "  <tbody>\n",
              "    <tr>\n",
              "      <th>14</th>\n",
              "      <td>TN</td>\n",
              "      <td>2.000000</td>\n",
              "    </tr>\n",
              "    <tr>\n",
              "      <th>16</th>\n",
              "      <td>UT</td>\n",
              "      <td>2.000000</td>\n",
              "    </tr>\n",
              "    <tr>\n",
              "      <th>12</th>\n",
              "      <td>AR</td>\n",
              "      <td>1.500000</td>\n",
              "    </tr>\n",
              "    <tr>\n",
              "      <th>7</th>\n",
              "      <td>IN</td>\n",
              "      <td>1.166667</td>\n",
              "    </tr>\n",
              "    <tr>\n",
              "      <th>15</th>\n",
              "      <td>KY</td>\n",
              "      <td>1.000000</td>\n",
              "    </tr>\n",
              "    <tr>\n",
              "      <th>21</th>\n",
              "      <td>WV</td>\n",
              "      <td>1.000000</td>\n",
              "    </tr>\n",
              "    <tr>\n",
              "      <th>19</th>\n",
              "      <td>GA</td>\n",
              "      <td>1.000000</td>\n",
              "    </tr>\n",
              "    <tr>\n",
              "      <th>17</th>\n",
              "      <td>AL</td>\n",
              "      <td>1.000000</td>\n",
              "    </tr>\n",
              "    <tr>\n",
              "      <th>2</th>\n",
              "      <td>IL</td>\n",
              "      <td>0.780488</td>\n",
              "    </tr>\n",
              "    <tr>\n",
              "      <th>5</th>\n",
              "      <td>MA</td>\n",
              "      <td>0.750000</td>\n",
              "    </tr>\n",
              "    <tr>\n",
              "      <th>11</th>\n",
              "      <td>OK</td>\n",
              "      <td>0.333333</td>\n",
              "    </tr>\n",
              "    <tr>\n",
              "      <th>13</th>\n",
              "      <td>NC</td>\n",
              "      <td>0.333333</td>\n",
              "    </tr>\n",
              "    <tr>\n",
              "      <th>20</th>\n",
              "      <td>DC</td>\n",
              "      <td>0.333333</td>\n",
              "    </tr>\n",
              "    <tr>\n",
              "      <th>3</th>\n",
              "      <td>FL</td>\n",
              "      <td>-0.031746</td>\n",
              "    </tr>\n",
              "    <tr>\n",
              "      <th>0</th>\n",
              "      <td>CA</td>\n",
              "      <td>-0.216374</td>\n",
              "    </tr>\n",
              "    <tr>\n",
              "      <th>6</th>\n",
              "      <td>VA</td>\n",
              "      <td>-0.307692</td>\n",
              "    </tr>\n",
              "    <tr>\n",
              "      <th>28</th>\n",
              "      <td>AZ</td>\n",
              "      <td>-0.400000</td>\n",
              "    </tr>\n",
              "    <tr>\n",
              "      <th>8</th>\n",
              "      <td>PA</td>\n",
              "      <td>-0.428571</td>\n",
              "    </tr>\n",
              "    <tr>\n",
              "      <th>1</th>\n",
              "      <td>TX</td>\n",
              "      <td>-0.432292</td>\n",
              "    </tr>\n",
              "    <tr>\n",
              "      <th>22</th>\n",
              "      <td>NH</td>\n",
              "      <td>-0.666667</td>\n",
              "    </tr>\n",
              "    <tr>\n",
              "      <th>9</th>\n",
              "      <td>NY</td>\n",
              "      <td>-0.676471</td>\n",
              "    </tr>\n",
              "    <tr>\n",
              "      <th>10</th>\n",
              "      <td>MD</td>\n",
              "      <td>-0.700000</td>\n",
              "    </tr>\n",
              "    <tr>\n",
              "      <th>18</th>\n",
              "      <td>IA</td>\n",
              "      <td>-1.000000</td>\n",
              "    </tr>\n",
              "    <tr>\n",
              "      <th>25</th>\n",
              "      <td>KS</td>\n",
              "      <td>-1.000000</td>\n",
              "    </tr>\n",
              "    <tr>\n",
              "      <th>27</th>\n",
              "      <td>CT</td>\n",
              "      <td>-1.250000</td>\n",
              "    </tr>\n",
              "    <tr>\n",
              "      <th>4</th>\n",
              "      <td>NJ</td>\n",
              "      <td>-1.823529</td>\n",
              "    </tr>\n",
              "    <tr>\n",
              "      <th>24</th>\n",
              "      <td>NV</td>\n",
              "      <td>-2.000000</td>\n",
              "    </tr>\n",
              "    <tr>\n",
              "      <th>23</th>\n",
              "      <td>NM</td>\n",
              "      <td>-3.000000</td>\n",
              "    </tr>\n",
              "    <tr>\n",
              "      <th>26</th>\n",
              "      <td>DE</td>\n",
              "      <td>-3.500000</td>\n",
              "    </tr>\n",
              "    <tr>\n",
              "      <th>29</th>\n",
              "      <td>VT</td>\n",
              "      <td>-6.000000</td>\n",
              "    </tr>\n",
              "  </tbody>\n",
              "</table>\n",
              "</div>"
            ],
            "text/plain": [
              "   user_state      rank\n",
              "14         TN  2.000000\n",
              "16         UT  2.000000\n",
              "12         AR  1.500000\n",
              "7          IN  1.166667\n",
              "15         KY  1.000000\n",
              "21         WV  1.000000\n",
              "19         GA  1.000000\n",
              "17         AL  1.000000\n",
              "2          IL  0.780488\n",
              "5          MA  0.750000\n",
              "11         OK  0.333333\n",
              "13         NC  0.333333\n",
              "20         DC  0.333333\n",
              "3          FL -0.031746\n",
              "0          CA -0.216374\n",
              "6          VA -0.307692\n",
              "28         AZ -0.400000\n",
              "8          PA -0.428571\n",
              "1          TX -0.432292\n",
              "22         NH -0.666667\n",
              "9          NY -0.676471\n",
              "10         MD -0.700000\n",
              "18         IA -1.000000\n",
              "25         KS -1.000000\n",
              "27         CT -1.250000\n",
              "4          NJ -1.823529\n",
              "24         NV -2.000000\n",
              "23         NM -3.000000\n",
              "26         DE -3.500000\n",
              "29         VT -6.000000"
            ]
          },
          "execution_count": 24,
          "metadata": {},
          "output_type": "execute_result"
        },
        {
          "data": {
            "image/png": "[encoded data removed]",
            "text/plain": [
              "<Figure size 1500x500 with 1 Axes>"
            ]
          },
          "metadata": {},
          "output_type": "display_data"
        }
      ],
      "source": [
        "prioritize_states(df_subs, 'Wallet Opened')"
      ]
    },
    {
      "cell_type": "markdown",
      "metadata": {
        "id": "H5MkkO0IAxCm"
      },
      "source": [
        "problems only in the states: TN, UT, AR, IN, KY, WV, GA, AL, IL, MA"
      ]
    },
    {
      "cell_type": "markdown",
      "source": [
        "VT, DE, NM, NV, NJ, CT, KS, IA"
      ],
      "metadata": {
        "id": "Xn5AHerGlfcm"
      }
    },
    {
      "cell_type": "markdown",
      "metadata": {
        "id": "szhAVsqyAxCm"
      },
      "source": [
        "## Getting states ranking for Account History Transaction Details"
      ]
    },
    {
      "cell_type": "code",
      "execution_count": null,
      "metadata": {
        "id": "6qhrz19SAxCm",
        "outputId": "399d1339-2e41-4f30-817c-fef837ea9a1c"
      },
      "outputs": [
        {
          "data": {
            "text/html": [
              "<div>\n",
              "<style scoped>\n",
              "    .dataframe tbody tr th:only-of-type {\n",
              "        vertical-align: middle;\n",
              "    }\n",
              "\n",
              "    .dataframe tbody tr th {\n",
              "        vertical-align: top;\n",
              "    }\n",
              "\n",
              "    .dataframe thead th {\n",
              "        text-align: right;\n",
              "    }\n",
              "</style>\n",
              "<table border=\"1\" class=\"dataframe\">\n",
              "  <thead>\n",
              "    <tr style=\"text-align: right;\">\n",
              "      <th></th>\n",
              "      <th>user_state</th>\n",
              "      <th>rank</th>\n",
              "    </tr>\n",
              "  </thead>\n",
              "  <tbody>\n",
              "    <tr>\n",
              "      <th>12</th>\n",
              "      <td>WV</td>\n",
              "      <td>3.000000</td>\n",
              "    </tr>\n",
              "    <tr>\n",
              "      <th>13</th>\n",
              "      <td>AR</td>\n",
              "      <td>1.500000</td>\n",
              "    </tr>\n",
              "    <tr>\n",
              "      <th>2</th>\n",
              "      <td>IL</td>\n",
              "      <td>1.341463</td>\n",
              "    </tr>\n",
              "    <tr>\n",
              "      <th>5</th>\n",
              "      <td>MA</td>\n",
              "      <td>1.250000</td>\n",
              "    </tr>\n",
              "    <tr>\n",
              "      <th>14</th>\n",
              "      <td>TN</td>\n",
              "      <td>1.000000</td>\n",
              "    </tr>\n",
              "    <tr>\n",
              "      <th>8</th>\n",
              "      <td>IN</td>\n",
              "      <td>1.000000</td>\n",
              "    </tr>\n",
              "    <tr>\n",
              "      <th>15</th>\n",
              "      <td>AL</td>\n",
              "      <td>1.000000</td>\n",
              "    </tr>\n",
              "    <tr>\n",
              "      <th>10</th>\n",
              "      <td>OK</td>\n",
              "      <td>0.166667</td>\n",
              "    </tr>\n",
              "    <tr>\n",
              "      <th>16</th>\n",
              "      <td>NC</td>\n",
              "      <td>0.000000</td>\n",
              "    </tr>\n",
              "    <tr>\n",
              "      <th>3</th>\n",
              "      <td>FL</td>\n",
              "      <td>-0.031746</td>\n",
              "    </tr>\n",
              "    <tr>\n",
              "      <th>7</th>\n",
              "      <td>PA</td>\n",
              "      <td>-0.142857</td>\n",
              "    </tr>\n",
              "    <tr>\n",
              "      <th>23</th>\n",
              "      <td>CT</td>\n",
              "      <td>-0.250000</td>\n",
              "    </tr>\n",
              "    <tr>\n",
              "      <th>21</th>\n",
              "      <td>IA</td>\n",
              "      <td>-0.500000</td>\n",
              "    </tr>\n",
              "    <tr>\n",
              "      <th>0</th>\n",
              "      <td>CA</td>\n",
              "      <td>-0.523392</td>\n",
              "    </tr>\n",
              "    <tr>\n",
              "      <th>1</th>\n",
              "      <td>TX</td>\n",
              "      <td>-0.609375</td>\n",
              "    </tr>\n",
              "    <tr>\n",
              "      <th>6</th>\n",
              "      <td>VA</td>\n",
              "      <td>-0.653846</td>\n",
              "    </tr>\n",
              "    <tr>\n",
              "      <th>17</th>\n",
              "      <td>NH</td>\n",
              "      <td>-0.666667</td>\n",
              "    </tr>\n",
              "    <tr>\n",
              "      <th>9</th>\n",
              "      <td>MD</td>\n",
              "      <td>-0.700000</td>\n",
              "    </tr>\n",
              "    <tr>\n",
              "      <th>18</th>\n",
              "      <td>NM</td>\n",
              "      <td>-1.000000</td>\n",
              "    </tr>\n",
              "    <tr>\n",
              "      <th>25</th>\n",
              "      <td>MI</td>\n",
              "      <td>-1.000000</td>\n",
              "    </tr>\n",
              "    <tr>\n",
              "      <th>4</th>\n",
              "      <td>NJ</td>\n",
              "      <td>-1.058824</td>\n",
              "    </tr>\n",
              "    <tr>\n",
              "      <th>11</th>\n",
              "      <td>NY</td>\n",
              "      <td>-2.117647</td>\n",
              "    </tr>\n",
              "    <tr>\n",
              "      <th>20</th>\n",
              "      <td>KS</td>\n",
              "      <td>-4.000000</td>\n",
              "    </tr>\n",
              "    <tr>\n",
              "      <th>22</th>\n",
              "      <td>DE</td>\n",
              "      <td>-5.500000</td>\n",
              "    </tr>\n",
              "    <tr>\n",
              "      <th>24</th>\n",
              "      <td>AZ</td>\n",
              "      <td>-6.800000</td>\n",
              "    </tr>\n",
              "    <tr>\n",
              "      <th>19</th>\n",
              "      <td>NV</td>\n",
              "      <td>-9.000000</td>\n",
              "    </tr>\n",
              "  </tbody>\n",
              "</table>\n",
              "</div>"
            ],
            "text/plain": [
              "   user_state      rank\n",
              "12         WV  3.000000\n",
              "13         AR  1.500000\n",
              "2          IL  1.341463\n",
              "5          MA  1.250000\n",
              "14         TN  1.000000\n",
              "8          IN  1.000000\n",
              "15         AL  1.000000\n",
              "10         OK  0.166667\n",
              "16         NC  0.000000\n",
              "3          FL -0.031746\n",
              "7          PA -0.142857\n",
              "23         CT -0.250000\n",
              "21         IA -0.500000\n",
              "0          CA -0.523392\n",
              "1          TX -0.609375\n",
              "6          VA -0.653846\n",
              "17         NH -0.666667\n",
              "9          MD -0.700000\n",
              "18         NM -1.000000\n",
              "25         MI -1.000000\n",
              "4          NJ -1.058824\n",
              "11         NY -2.117647\n",
              "20         KS -4.000000\n",
              "22         DE -5.500000\n",
              "24         AZ -6.800000\n",
              "19         NV -9.000000"
            ]
          },
          "execution_count": 25,
          "metadata": {},
          "output_type": "execute_result"
        },
        {
          "data": {
            "image/png": "[encoded data removed]",
            "text/plain": [
              "<Figure size 1500x500 with 1 Axes>"
            ]
          },
          "metadata": {},
          "output_type": "display_data"
        }
      ],
      "source": [
        "prioritize_states(df_subs, 'Account History Transaction Details')"
      ]
    },
    {
      "cell_type": "markdown",
      "metadata": {
        "id": "PzJ6BgyAAxCm"
      },
      "source": [
        "problems only in the states: WV, AR, IL, MA, TN, IN, AL"
      ]
    },
    {
      "cell_type": "markdown",
      "metadata": {
        "id": "xBMkDBZvAxCm"
      },
      "source": [
        "# Next we will research correlation for events with users devices. \n",
        "\n",
        "We noticed that there are events which correspond to NaN's in event_platform and device_manufacture columns, so we suppose that these events don't depend on users' devices and they can be skipped"
      ]
    },
    {
      "cell_type": "code",
      "execution_count": null,
      "metadata": {
        "id": "llbtUkN5AxCm",
        "outputId": "7f077948-b366-43b5-bf22-5a42182bdd48"
      },
      "outputs": [
        {
          "data": {
            "text/plain": [
              "Order                          5538\n",
              "Subscription Premium            711\n",
              "Subscription Premium Renew      310\n",
              "Subscription Premium Cancel     257\n",
              "Transaction Refund               96\n",
              "Name: event_name, dtype: int64"
            ]
          },
          "execution_count": 26,
          "metadata": {},
          "output_type": "execute_result"
        }
      ],
      "source": [
        "df_subs[df_subs['event_platform'] == 'outofband'].event_name.value_counts()"
      ]
    },
    {
      "cell_type": "code",
      "execution_count": null,
      "metadata": {
        "id": "PqgPgyi1AxCn",
        "outputId": "63c9f623-9327-4dd0-c8e6-a9f8ee8c7954"
      },
      "outputs": [
        {
          "data": {
            "text/plain": [
              "Order                          5538\n",
              "Subscription Premium            711\n",
              "Subscription Premium Renew      310\n",
              "Subscription Premium Cancel     257\n",
              "Transaction Refund               96\n",
              "Name: event_name, dtype: int64"
            ]
          },
          "execution_count": 27,
          "metadata": {},
          "output_type": "execute_result"
        }
      ],
      "source": [
        "df_subs[df_subs['device_manufacture'].isnull()].event_name.value_counts()"
      ]
    },
    {
      "cell_type": "code",
      "execution_count": null,
      "metadata": {
        "id": "66MiYuNOAxCn"
      },
      "outputs": [],
      "source": [
        "#Function to evaluate counts for platforms from dataframe with devices\n",
        "def get_df_for_platforms(df):\n",
        "    ios_not_gone = df[df['device_manufacture'] == 'Apple'].not_gone.values[0]\n",
        "    ios_gone = df[df['device_manufacture'] == 'Apple'].gone.values[0]\n",
        "    ios_subs_have_platform = ios_gone = df[df['device_manufacture'] == 'Apple'].subs_have_device.values[0]\n",
        "    android_not_gone = df[df['device_manufacture'] != 'Apple'].not_gone.sum()\n",
        "    android_gone = df[df['device_manufacture'] != 'Apple'].gone.sum()\n",
        "    android_subs_have_platform = df[df['device_manufacture'] != 'Apple'].subs_have_device.sum()\n",
        "    d = {'platform': ['ios', 'android'], 'not_gone': [ios_not_gone, android_not_gone], 'gone': [ios_gone, android_gone],\n",
        "      'subs_have_platform': [ios_subs_have_platform, android_subs_have_platform] }\n",
        "    res = pd.DataFrame(data = d)\n",
        "    res['not_gone'] = res['not_gone']/res['subs_have_platform']\n",
        "    res['gone'] = res['gone']/res['subs_have_platform']\n",
        "    return res"
      ]
    },
    {
      "cell_type": "markdown",
      "metadata": {
        "id": "eCrHg9IkAxCn"
      },
      "source": [
        "Writing function to prioritize devices and platforms correlation for events. In general, we evaluate stats here like we did it for states correlation for events, but we get results for platforms and devices at the same time.\n",
        "\n",
        "if device == Apple, then platform = ios, \n",
        "\n",
        "if device != Apple, then platform = android"
      ]
    },
    {
      "cell_type": "code",
      "execution_count": null,
      "metadata": {
        "id": "qC5IhqWNAxCn"
      },
      "outputs": [],
      "source": [
        "def prioritize_devices(df_subs, event_name):\n",
        "    df_event_name = df_subs[df_subs['event_name'] == event_name]\n",
        "    df_event_name_devices = df_event_name[['userid', 'device_manufacture', 'gone_user']]\n",
        "    df_event_name_devices_count = df_event_name_devices.groupby(['userid', 'device_manufacture']).count().unstack(level=1,fill_value=0)['gone_user']\n",
        "    df_event_name_devices_count['gone_user'] = df_event_name_devices_count.index.isin(gone_users)\n",
        "    df_event_name_devices_count = df_event_name_devices_count.groupby(['gone_user']).sum().T.reset_index().rename(columns={False:'not_gone', True:'gone'}).sort_values('gone', ascending=False)\n",
        "    \n",
        "    df_subs_in_state = df_subs[['userid', 'device_manufacture', 'gone_user']].drop_duplicates('userid').groupby(['device_manufacture']).count()['userid']\n",
        "\n",
        "    df_event_name_devices_mean = pd.merge(df_event_name_devices_count, df_subs_in_state, on='device_manufacture', how='inner').rename(columns={'userid':'subs_have_device'})\n",
        "\n",
        "    #Getting same stats for platforms\n",
        "    df_event_name_platform_mean = get_df_for_platforms(df_event_name_devices_mean)\n",
        "    df_event_name_platform_mean['rank'] = df_event_name_platform_mean.gone - df_event_name_platform_mean.not_gone\n",
        "    df_event_name_platform_mean.sort_values('rank', ascending=False, inplace=True)\n",
        "    df_event_name_platform_mean.plot(kind='bar',y=['not_gone', 'gone'], x='platform', rot=90, figsize=(15,5))\n",
        "\n",
        "\n",
        "    df_event_name_devices_mean['not_gone'] = df_event_name_devices_mean['not_gone']/df_event_name_devices_mean['subs_have_device']\n",
        "    df_event_name_devices_mean['gone'] = df_event_name_devices_mean['gone']/df_event_name_devices_mean['subs_have_device']\n",
        "\n",
        "    df_event_name_devices_mean['rank'] = df_event_name_devices_mean.gone - df_event_name_devices_mean.not_gone\n",
        "    df_event_name_devices_mean.sort_values('rank', ascending=False, inplace=True)\n",
        "    df_event_name_devices_mean.plot(kind='bar',y=['not_gone', 'gone'], x='device_manufacture', rot=90, figsize=(15,5), title=event_name)\n",
        "    \n",
        "    return df_event_name_platform_mean[['platform','rank']] , df_event_name_devices_mean[['device_manufacture','rank']]\n",
        "    "
      ]
    },
    {
      "cell_type": "markdown",
      "metadata": {
        "id": "EchYnfjJAxCn"
      },
      "source": [
        "## Getting platforms and devices ranking for Chat Conversation Started"
      ]
    },
    {
      "cell_type": "code",
      "execution_count": null,
      "metadata": {
        "id": "5A8RRHZ0AxCn",
        "outputId": "73e57396-c350-446a-ee9d-f6dad152c635"
      },
      "outputs": [
        {
          "data": {
            "text/plain": [
              "(  platform      rank\n",
              " 1  android  1.276364\n",
              " 0      ios  0.904968,\n",
              "    device_manufacture      rank\n",
              " 6                 BLU  2.500000\n",
              " 0             samsung  1.484536\n",
              " 5            Wingtech  1.250000\n",
              " 2            motorola  1.160000\n",
              " 4              Google  1.066667\n",
              " 7                 FIH  1.000000\n",
              " 3                 LGE  0.611111\n",
              " 1               Apple  0.226782\n",
              " 9             OnePlus  0.222222\n",
              " 10                TCL -1.000000\n",
              " 8          HMD Global -1.500000)"
            ]
          },
          "execution_count": 30,
          "metadata": {},
          "output_type": "execute_result"
        },
        {
          "data": {
            "image/png": "[encoded data removed]",
            "text/plain": [
              "<Figure size 1500x500 with 1 Axes>"
            ]
          },
          "metadata": {},
          "output_type": "display_data"
        },
        {
          "data": {
            "image/png": "[encoded data removed]",
            "text/plain": [
              "<Figure size 1500x500 with 1 Axes>"
            ]
          },
          "metadata": {},
          "output_type": "display_data"
        }
      ],
      "source": [
        "prioritize_devices(df_subs, 'Chat Conversation Started')"
      ]
    },
    {
      "cell_type": "markdown",
      "metadata": {
        "id": "6asul8VgAxCo"
      },
      "source": [
        "<p>According to first plot, we can see, that IOS users has bigger correlation with the potential account cancellation, than Android users.</p>\n",
        "\n",
        "According to second plot, we can see, that BLU users always canceling subscription. Also high corellation has Samsung, Wingtech, Motorola, Google and LGE users, but TCL and HMD Global got lowest."
      ]
    },
    {
      "cell_type": "markdown",
      "metadata": {
        "id": "qxHbcC2YAxCo"
      },
      "source": [
        "## Getting platforms and devices ranking for Chat Conversation Opened"
      ]
    },
    {
      "cell_type": "code",
      "execution_count": null,
      "metadata": {
        "id": "BSsRyKtUAxCo",
        "outputId": "50da1870-e0de-4970-c65f-3fc9c94c7b29"
      },
      "outputs": [
        {
          "data": {
            "text/plain": [
              "(  platform      rank\n",
              " 0      ios  0.442765\n",
              " 1  android  0.188192,\n",
              "   device_manufacture      rank\n",
              " 4           Wingtech  1.000000\n",
              " 0              Apple  0.591793\n",
              " 1            samsung  0.226804\n",
              " 3                LGE  0.166667\n",
              " 2           motorola  0.160000\n",
              " 6            OnePlus  0.111111\n",
              " 7                TCL  0.000000\n",
              " 5             Google -0.066667\n",
              " 8         HMD Global -2.000000)"
            ]
          },
          "execution_count": 31,
          "metadata": {},
          "output_type": "execute_result"
        },
        {
          "data": {
            "image/png": "[encoded data removed]",
            "text/plain": [
              "<Figure size 1500x500 with 1 Axes>"
            ]
          },
          "metadata": {},
          "output_type": "display_data"
        },
        {
          "data": {
            "image/png": "[encoded data removed]",
            "text/plain": [
              "<Figure size 1500x500 with 1 Axes>"
            ]
          },
          "metadata": {},
          "output_type": "display_data"
        }
      ],
      "source": [
        "prioritize_devices(df_subs, 'Chat Conversation Opened')"
      ]
    },
    {
      "cell_type": "markdown",
      "metadata": {
        "id": "5Inn7hPFAxCo"
      },
      "source": [
        "<p>According to first plot, we can see, that IOS users has bigger correlation with the potential account cancellation, than Android users.</p>\n",
        "\n",
        "According to second plot, we can see, that HMD users never canceling subscription.High corellation has Wingtech, Apple, a bit less Samsung,Motorola and LGE users."
      ]
    },
    {
      "cell_type": "markdown",
      "metadata": {
        "id": "FHmMuBbdAxCo"
      },
      "source": [
        "## Getting platforms and devices ranking for Sign Out"
      ]
    },
    {
      "cell_type": "code",
      "execution_count": null,
      "metadata": {
        "id": "rnWu8oI_AxCo",
        "outputId": "b269debd-34ff-48c3-ee6a-4d8f39ab8972"
      },
      "outputs": [
        {
          "data": {
            "text/plain": [
              "(  platform      rank\n",
              " 0      ios  0.900648\n",
              " 1  android -0.064151,\n",
              "   device_manufacture      rank\n",
              " 3                BLU  1.000000\n",
              " 0              Apple  0.352052\n",
              " 4            OnePlus  0.111111\n",
              " 2                LGE  0.055556\n",
              " 1            samsung -0.067010\n",
              " 7           motorola -0.160000\n",
              " 5             Google -0.200000\n",
              " 6         HMD Global -0.500000)"
            ]
          },
          "execution_count": 32,
          "metadata": {},
          "output_type": "execute_result"
        },
        {
          "data": {
            "image/png": "[encoded data removed]",
            "text/plain": [
              "<Figure size 1500x500 with 1 Axes>"
            ]
          },
          "metadata": {},
          "output_type": "display_data"
        },
        {
          "data": {
            "image/png": "[encoded data removed]",
            "text/plain": [
              "<Figure size 1500x500 with 1 Axes>"
            ]
          },
          "metadata": {},
          "output_type": "display_data"
        }
      ],
      "source": [
        "prioritize_devices(df_subs, 'Sign Out')"
      ]
    },
    {
      "cell_type": "markdown",
      "metadata": {
        "id": "6b98l-lnAxCp"
      },
      "source": [
        "<p>According to first plot, we can see, that IOS users has much bigger correlation with the potential account cancellation, than Android users.</p>\n",
        "\n",
        "According to second plot, we can see, that BLU users always canceling subscription. Also high corellation has Apple and OnePlus. Other manufacturers users correlation is pretty small."
      ]
    },
    {
      "cell_type": "markdown",
      "source": [],
      "metadata": {
        "id": "d-Z5G2kAkE4F"
      }
    },
    {
      "cell_type": "markdown",
      "metadata": {
        "id": "u16amYmtAxCp"
      },
      "source": [
        "## Getting platforms and devices ranking for Wallet Opened"
      ]
    },
    {
      "cell_type": "code",
      "execution_count": null,
      "metadata": {
        "id": "VWGi02JwAxCp",
        "outputId": "3b0e0868-8ced-4cc8-b154-46894c371b21"
      },
      "outputs": [
        {
          "data": {
            "text/plain": [
              "(  platform      rank\n",
              " 0      ios  0.252700\n",
              " 1  android -0.541818,\n",
              "    device_manufacture       rank\n",
              " 7                 BLU   0.500000\n",
              " 8                 FIH   0.500000\n",
              " 2                 LGE   0.444444\n",
              " 3             OnePlus   0.333333\n",
              " 0               Apple  -0.116631\n",
              " 10           Wingtech  -0.250000\n",
              " 5            motorola  -0.320000\n",
              " 9                 TCL  -0.500000\n",
              " 1             samsung  -0.572165\n",
              " 4              Google  -1.000000\n",
              " 6          HMD Global -12.500000)"
            ]
          },
          "execution_count": 33,
          "metadata": {},
          "output_type": "execute_result"
        },
        {
          "data": {
            "image/png": "[encoded data removed]",
            "text/plain": [
              "<Figure size 1500x500 with 1 Axes>"
            ]
          },
          "metadata": {},
          "output_type": "display_data"
        },
        {
          "data": {
            "image/png": "[encoded data removed]",
            "text/plain": [
              "<Figure size 1500x500 with 1 Axes>"
            ]
          },
          "metadata": {},
          "output_type": "display_data"
        }
      ],
      "source": [
        "prioritize_devices(df_subs, 'Wallet Opened')"
      ]
    },
    {
      "cell_type": "markdown",
      "metadata": {
        "id": "JOeqiuv3AxCp"
      },
      "source": [
        "<p>According to first plot, we can see, that IOS users has not a big correlation with the potential account cancellation, but in diffence with Android users IOS correlation seems pretty strong in this event.</p>\n",
        "\n",
        "According to second plot, we can see, that HMD Global users mostly not canceling subscription after they opened wallet. Other types of device manufactures doesnt have such a big correlation."
      ]
    },
    {
      "cell_type": "markdown",
      "metadata": {
        "id": "P1t007qNAxCp"
      },
      "source": [
        "## Getting platforms and devices ranking for Account History Transaction Details"
      ]
    },
    {
      "cell_type": "code",
      "execution_count": null,
      "metadata": {
        "id": "kHDBIoOjAxCp",
        "outputId": "63d4af4c-9eb8-4e9e-fb92-bb52dfe976de"
      },
      "outputs": [
        {
          "data": {
            "text/plain": [
              "(  platform      rank\n",
              " 0      ios -0.073434\n",
              " 1  android -0.681319,\n",
              "   device_manufacture       rank\n",
              " 6            OnePlus   0.111111\n",
              " 9                TCL  -0.250000\n",
              " 4           motorola  -0.400000\n",
              " 0              Apple  -0.457883\n",
              " 7                FIH  -0.500000\n",
              " 1            samsung  -0.510309\n",
              " 5           Wingtech  -0.750000\n",
              " 2                LGE  -1.000000\n",
              " 3             Google  -1.000000\n",
              " 8         HMD Global -20.000000)"
            ]
          },
          "execution_count": 34,
          "metadata": {},
          "output_type": "execute_result"
        },
        {
          "data": {
            "image/png": "[encoded data removed]",
            "text/plain": [
              "<Figure size 1500x500 with 1 Axes>"
            ]
          },
          "metadata": {},
          "output_type": "display_data"
        },
        {
          "data": {
            "image/png": "[encoded data removed]",
            "text/plain": [
              "<Figure size 1500x500 with 1 Axes>"
            ]
          },
          "metadata": {},
          "output_type": "display_data"
        }
      ],
      "source": [
        "prioritize_devices(df_subs, 'Account History Transaction Details')"
      ]
    },
    {
      "cell_type": "markdown",
      "metadata": {
        "id": "vsyv-SubAxCq"
      },
      "source": [
        "<p>According to first plot, we can see, that both IOS and Android users has low correlation.</p>\n",
        "\n",
        "According to second plot, we can see, that HMD Global users not canceling subscription after this event. Other types of device manufactures doesnt have such a big correlation."
      ]
    },
    {
      "cell_type": "markdown",
      "metadata": {
        "id": "CfFIHUghAxCq"
      },
      "source": [
        "# Next we will look at event attributes for high correlating events.\n",
        "\n",
        "## Here we are counting Amounts of Transaction Refund for gone and not gone users to see if there is correlaton"
      ]
    },
    {
      "cell_type": "markdown",
      "metadata": {
        "id": "5s8U79SpAxCq"
      },
      "source": [
        "Getting amount values from column event attributes"
      ]
    },
    {
      "cell_type": "code",
      "execution_count": null,
      "metadata": {
        "id": "GZI8yYohAxCq"
      },
      "outputs": [],
      "source": [
        "import json\n",
        "df_transaction_refund_attributes = df_subs[df_subs['event_name'] == 'Transaction Refund'][['userid', 'event_attributes', 'gone_user']]\n",
        "for index, row in df_transaction_refund_attributes.iterrows():\n",
        "    df_transaction_refund_attributes['event_attributes'][index] = json.loads(row['event_attributes'])['Amount']\n",
        "df_transaction_refund_attributes['event_attributes'] = df_transaction_refund_attributes['event_attributes'].astype(float)"
      ]
    },
    {
      "cell_type": "markdown",
      "metadata": {
        "id": "yHYMRmPrAxCq"
      },
      "source": [
        "Counting Amounts of Transaction Refund and evaluating ranks. Plotting results"
      ]
    },
    {
      "cell_type": "code",
      "execution_count": null,
      "metadata": {
        "id": "l36RhuZXAxCq",
        "outputId": "73d71a07-8462-4f5a-d6f7-32961b767535"
      },
      "outputs": [
        {
          "name": "stdout",
          "output_type": "stream",
          "text": [
            "gone_user  event_attributes  not_gone  gone  rank\n",
            "8                    -20.00         1    35    34\n",
            "14                   -10.00         0    30    30\n",
            "2                    -50.00         0     7     7\n",
            "6                    -24.29         0     4     4\n",
            "5                    -27.99         0     2     2\n",
            "0                   -100.00         0     1     1\n",
            "13                   -10.87         0     1     1\n",
            "20                    -5.26         0     1     1\n",
            "19                    -6.17         0     1     1\n",
            "17                    -8.01         0     1     1\n",
            "16                    -8.78         0     1     1\n",
            "15                    -9.99         0     1     1\n",
            "11                   -15.94         0     1     1\n",
            "12                   -14.29         0     1     1\n",
            "10                   -16.62         0     1     1\n",
            "9                    -18.35         0     1     1\n",
            "7                    -22.73         0     1     1\n",
            "4                    -34.79         0     1     1\n",
            "3                    -40.00         0     1     1\n",
            "21                    -0.96         0     1     1\n",
            "1                    -80.00         1     0    -1\n",
            "18                    -6.67         1     0    -1\n"
          ]
        },
        {
          "data": {
            "text/plain": [
              "<AxesSubplot: xlabel='event_attributes'>"
            ]
          },
          "execution_count": 36,
          "metadata": {},
          "output_type": "execute_result"
        },
        {
          "data": {
            "image/png": "[encoded data removed]",
            "text/plain": [
              "<Figure size 1500x500 with 1 Axes>"
            ]
          },
          "metadata": {},
          "output_type": "display_data"
        }
      ],
      "source": [
        "df_refund_amount_count = df_transaction_refund_attributes.groupby(['userid', 'event_attributes']).count().unstack(level=1,fill_value=0)['gone_user']\n",
        "df_refund_amount_count['gone_user'] = df_refund_amount_count.index.isin(gone_users)\n",
        "df_refund_amount_sum = df_refund_amount_count.groupby(['gone_user']).sum().T.reset_index().rename(columns={False:'not_gone', True:'gone'}).sort_values('gone', ascending=False)\n",
        "df_refund_amount_sum['rank'] = df_refund_amount_sum['gone'] - df_refund_amount_sum['not_gone']\n",
        "print(df_refund_amount_sum)\n",
        "df_refund_amount_sum.plot(kind='bar',y=['not_gone', 'gone'], x='event_attributes', rot=90, figsize=(15,5))"
      ]
    },
    {
      "cell_type": "markdown",
      "metadata": {
        "id": "-LdiSFxlAxCr"
      },
      "source": [
        "From this plot now we see that amount of transaction refund doesn`t significantly correlates with Premium Subscription Cancel"
      ]
    },
    {
      "cell_type": "markdown",
      "metadata": {
        "id": "pX6Ym49ZAxCr"
      },
      "source": [
        "## Now we'll build rank for types of sign out."
      ]
    },
    {
      "cell_type": "markdown",
      "metadata": {
        "id": "CyNW_iVlAxCr"
      },
      "source": [
        "Counting amounts of signs out, then changing values for count per user, finding rank and building plot."
      ]
    },
    {
      "cell_type": "code",
      "execution_count": null,
      "metadata": {
        "id": "07Bx1aJHAxCr",
        "outputId": "10e818a4-8c2d-45a8-d03f-0fbea72c37f8"
      },
      "outputs": [
        {
          "name": "stdout",
          "output_type": "stream",
          "text": [
            "gone_user   event_attributes  not_gone      gone        rank\n",
            "0            {\"Type\":\"Auto\"}  0.084507  0.915493  983.333333\n",
            "1          {\"Type\":\"Manual\"}  0.605442  0.394558   24.038614\n"
          ]
        },
        {
          "data": {
            "text/plain": [
              "<AxesSubplot: xlabel='event_attributes'>"
            ]
          },
          "execution_count": 37,
          "metadata": {},
          "output_type": "execute_result"
        },
        {
          "data": {
            "image/png": "[encoded data removed]",
            "text/plain": [
              "<Figure size 1500x500 with 1 Axes>"
            ]
          },
          "metadata": {},
          "output_type": "display_data"
        }
      ],
      "source": [
        "# taking data with only sign out event\n",
        "df_sign_out = df_subs[['userid','event_name','event_attributes','gone_user']]\n",
        "df_sign_out = df_sign_out[df_sign_out['event_name'] == 'Sign Out']\n",
        "df_sign_out = df_sign_out.drop(['event_name'],axis=1)\n",
        "# count\n",
        "df_sign_out = df_sign_out.groupby(['event_attributes','gone_user']).count().unstack(level= 1,fill_value=0).rename(columns={False:'not_gone',True:'gone'})\n",
        "df_sign_out = df_sign_out['userid']\n",
        "df_sign_out['total'] = df_sign_out.sum(numeric_only=True, axis=1)\n",
        "df_sign_out_rank = df_sign_out.reset_index()\n",
        "\n",
        "#  per user\n",
        "df_sign_out_rank['not_gone'] = df_sign_out_rank['not_gone'] / df_sign_out_rank['total']\n",
        "df_sign_out_rank['gone'] = df_sign_out_rank['gone'] / df_sign_out_rank['total']\n",
        "\n",
        "# rank\n",
        "df_sign_out_rank['ratio'] = np.abs(df_sign_out_rank['gone'] - df_sign_out_rank['not_gone'])/df_sign_out_rank['not_gone'] * 100\n",
        "df_sign_out_rank['rank'] = df_sign_out_rank['ratio'] * (df_sign_out_rank['total']/df_sign_out_rank['total'].max())\n",
        "\n",
        "# plot\n",
        "df_sign_out_rank.drop(columns=['total','ratio'],inplace=True)\n",
        "df_sign_out_rank = df_sign_out_rank.sort_values('rank', ascending=False)\n",
        "print(df_sign_out_rank)\n",
        "df_sign_out_rank.plot(kind='bar',y=['not_gone', 'gone'], x='event_attributes', rot=90, figsize=(15,5))"
      ]
    },
    {
      "cell_type": "markdown",
      "metadata": {
        "id": "jZ32u9BIAxCr"
      },
      "source": [
        "As we can see, if user is not using our program for a long term and gets signed out automatically means that this user is nomore interested in our program and will cancel premium subscription. Maybe some of them are just forgetting about existence of our program and some notifications will lower this high difference.\n",
        "Also we see, that if user signs out manual, the rank of users, that gone is lower than not gone."
      ]
    },
    {
      "cell_type": "markdown",
      "source": [
        "# Сonclusion"
      ],
      "metadata": {
        "id": "SYePLIfWE9oH"
      }
    },
    {
      "cell_type": "markdown",
      "source": [
        "We briefly describe the algorithm by which we solved the task:\n",
        "\n",
        "* First, we selected subscribers from all users, among them we found those who unsubscribed\n",
        "* Next, we found the events that most affect the user's unsubscribe\n",
        "* After that, we delved into the attributes of the event, the user state and the user platform, and looked for dependencies in them.\n",
        "\n"
      ],
      "metadata": {
        "id": "0lsgeQHACSHY"
      }
    },
    {
      "cell_type": "markdown",
      "source": [
        "**Transaction Refund,** **Chat Conversation Started,** **Chat Conversation Opened,** **Order,** **Sign Out,** **Wallet Opened,** **Account History Transaction Details** events have the highest correlation with the potential account cancellation.\n",
        "\n",
        "\\\n",
        "\n",
        "Next, for these events, we will determine the set of parameters with the highest and lowest correlation with the potential\n",
        "account cancellation. \n",
        "\n",
        "\\\n",
        "\n",
        "For events with a lower correlation, we did not analyze state, platform, and attributes because we do not consider this informative."
      ],
      "metadata": {
        "id": "68Ly1YdNZNtr"
      }
    },
    {
      "cell_type": "markdown",
      "source": [
        "---"
      ],
      "metadata": {
        "id": "yrOYJoJCiwrt"
      }
    },
    {
      "cell_type": "markdown",
      "source": [
        "**Transaction Refund**\n",
        "\n",
        "states with highest correlation - AL, GA, WV, DC\n",
        "\n",
        "states with lowest correlation - NY, CA, NJ, TX"
      ],
      "metadata": {
        "id": "yqP4WOiqbc0Y"
      }
    },
    {
      "cell_type": "markdown",
      "source": [
        "**Chat Conversation Started**\n",
        "\n",
        "states with highest correlation -  WV, AL, IN, UT\n",
        "\n",
        "states with lowest correlation - AZ, MT, MA, NM\n",
        "\n",
        "platform - IOS users has bigger correlation with the potential account cancellation, than Android users\n",
        "\n",
        "device_manufacture - BLU users always canceling subscription. Also high corellation has Samsung, Wingtech, Motorola, Google and LGE users, but TCL and HMD Global got lowest.\n",
        "\n",
        " "
      ],
      "metadata": {
        "id": "IIoo6XUXeNyL"
      }
    },
    {
      "cell_type": "markdown",
      "source": [
        "**Chat Conversation Opened**\n",
        "\n",
        "states with highest correlation - WV, AL, IN, UT\n",
        "\n",
        "states with lowest correlation - MT, AZ, NM, NY, OH\n",
        "\n",
        "platform - IOS users has bigger correlation with the potential account cancellation, than Android users\n",
        "\n",
        "device_manufacture - HMD users never canceling subscription.High corellation has Wingtech, Apple, a bit less Samsung,Motorola and LGE users."
      ],
      "metadata": {
        "id": "b0XH8CW-gEjF"
      }
    },
    {
      "cell_type": "markdown",
      "source": [
        "**Order**\n",
        "\n",
        "states with highest correlation - TN, MA, AR, IL\n",
        "\n",
        "states with lowest correlation - NJ, DE, NV, AZ, TX, FL, MI, NH, MD, KS (users from these states almost never leave)\n",
        "\n",
        " "
      ],
      "metadata": {
        "id": "eBi7FN3MhuLU"
      }
    },
    {
      "cell_type": "markdown",
      "source": [
        "**Sign Out**\n",
        "\n",
        "states with highest correlation - UT, AR, CA, MA, VA\n",
        "\n",
        "states with lowest correlation - CT, OK, NM, WI, DC, NY\n",
        "\n",
        "platform - IOS users has much bigger correlation with the potential account cancellation, than Android users\n",
        "\n",
        "device_manufacture - BLU users always canceling subscription. Also high corellation has Apple and OnePlus. Other manufacturers HMD Global, Google, motorola, Samsung users correlation is pretty small.\n",
        "\n",
        "attributes - In the case of 'Auto' sign out, the correlation with account closure is much higher. Also we see, that if user signs out manual, the rank of users, that gone is lower than not gone."
      ],
      "metadata": {
        "id": "jJa-MntYi8c5"
      }
    },
    {
      "cell_type": "markdown",
      "source": [
        "**Wallet Opened**\n",
        "\n",
        "states with highest correlation - TN, UT, AR, IN, KY, WV, GA, AL\n",
        "\n",
        "states with lowest correlation - VT, DE, NM, NV, NJ, CT, KS, IA\n",
        "\n",
        "platform - IOS users has not a big correlation with the potential account cancellation, but in diffence with Android users IOS correlation seems pretty strong in this event.\n",
        "\n",
        "device_manufacture - HMD Global users mostly not canceling subscription after they opened wallet. Other types of device manufactures - BLU, FIH, LGE, Apple, motorola, samsung doesnt have such a big correlation."
      ],
      "metadata": {
        "id": "vJklX0V0lGoe"
      }
    },
    {
      "cell_type": "markdown",
      "source": [
        "**Account History Transaction Details**\n",
        "\n",
        "states with highest correlation - WV, AR, IL, MA\n",
        "\n",
        "states with lowest correlation - NV, AZ, DE, KS, NY\n",
        "\n",
        "platform -  both IOS and Android users has low correlation \n",
        "\n",
        "device_manufacture - HMD Global users not canceling subscription after this event. Other types of device manufactures - OnePlus, TCL, Apple, motorola, LGE doesnt have such a big correlation."
      ],
      "metadata": {
        "id": "P5qSEWWtmS4_"
      }
    }
  ],
  "metadata": {
    "kernelspec": {
      "display_name": "Python 3",
      "language": "python",
      "name": "python3"
    },
    "language_info": {
      "codemirror_mode": {
        "name": "ipython",
        "version": 3
      },
      "file_extension": ".py",
      "mimetype": "text/x-python",
      "name": "python",
      "nbconvert_exporter": "python",
      "pygments_lexer": "ipython3",
      "version": "3.10.7"
    },
    "orig_nbformat": 4,
    "vscode": {
      "interpreter": {
        "hash": "f946580c04de0b32f3120d2ada27f2c6945e763dd0baec5b18cdda5ccc74dd8c"
      }
    },
    "colab": {
      "provenance": [],
      "toc_visible": true
    }
  },
  "nbformat": 4,
  "nbformat_minor": 0
}